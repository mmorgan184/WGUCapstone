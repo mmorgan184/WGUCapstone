{
 "cells": [
  {
   "cell_type": "markdown",
   "id": "2023e9ea",
   "metadata": {},
   "source": [
    "# Predicting US Honey Production Through Time Series Analysis"
   ]
  },
  {
   "cell_type": "markdown",
   "id": "f11ea68d",
   "metadata": {},
   "source": [
    "# A. Research Question"
   ]
  },
  {
   "cell_type": "markdown",
   "id": "e5316d7c",
   "metadata": {},
   "source": [
    "For my capstone project I chose the following research question, \"Can I accurately predict honey production in the United States based on data from the last 22 years?\"\n",
    "\n",
    "Honey proudction in the United States has been largely impacted by the colony collapse disorder (CCD) phenomenon that began in 2006-2007 (US EPA, 2022). Beekeepers reported losses as high as 90% of their hives and noticed that their colonies suffered a severe and sudden loss of worker bee populations with no observations of dead bees, while queens remained along with abundant honey reserves. \n",
    "\n",
    "Currently, the causes of CCD aren't known. However, the Environmental Protection Agency (EPA) is attempting to mitigate CCD and help find ways to increase honey bee populations across the United States (US EPA, 2022). This is incredibly important in supporting local habitats as honey bees are the most populous pollinators in the world. \n",
    "\n",
    "To answer this question I used data about honey production in the US from 2000 - 2022. The data is provided for public use by the US Department of Agriculture and includes data for each state for each year. The data includes the following for each state and year, as well at the United States total for that year, which is an important distinction because the yearly US totals do not add up with the summing up of all the state totals due to rounding errors in the data. The following are the columns provided in the datasets; Honey Producing Colonies (thousands), Yield per colony (lbs), Production (1,000 lbs), Stocks Held by Producers (1,000 pounds), Average Price per Pound (dollars), Value of Production (1,000 dollars). \n",
    "\n",
    "In using this data to answer my question I am specifically looking at the 'production' column. Based on that column I developed a null and alternative hypothesis listed below:\n",
    "\n",
    "<b> Null Hypothesis: </b>We cannot predict the production of Honey in the United States within a 95% confidence interval with a 90% accuracy using Mean Absolute Percentage Error.\n",
    "\n",
    "<b> Alternative Hypothesis: </b>We can predict the production of Honey in the United States within a 95% confidence interval with a 90% accuracy using Mean Absolute Percentage Error.\n",
    "\n",
    "By using Mean Absolute Percentage Error (Zach, 2021) I can calculate how far off the predictions are on average from established data points. This allows us to conclude how accurate our prediciton will be. If the calculated MAPE is less than 0.10 then the model is within the established 90% range.\n",
    "\n",
    "Accurately predicting US Honey production for 2023 will allow for forecasting to determine if the US is heading in the correct or wrong direction in the EPA's efforts to mitigate CCD and maintain the population and effectiveness of pollinators in the US."
   ]
  },
  {
   "cell_type": "markdown",
   "id": "dea3fd13",
   "metadata": {},
   "source": [
    "# B. Data Collection"
   ]
  },
  {
   "cell_type": "markdown",
   "id": "9e43a0ae",
   "metadata": {},
   "source": [
    "As stated before, this data is provided by the US Department of Agriculture for public use and is catalogued on the Cornell University library website (USDA Economics, 2023) for download in CSV, PDF, and TXT formats.\n",
    "\n",
    "Each CSV document catalogs the following data for the year for each state in the US, as well as the US totals: Honey Producing Colonies (thousands), Yield per colony (lbs), Production (1,000 lbs), Stocks Held by Producers (1,000 pounds), Average Price per Pound (dollars), Value of Production (1,000 dollars). \n",
    "\n",
    "To complete the time series analysis, it only requires focus on one column, which was the production column. To do this I added a year column for each CSV file so I could filter all the data by year and select the rows with the US production total. I then put that into a new dataframe that had the total US production for each year from 2000 - 2022. I then created a new year column and used the DateTime function in pandas to generate dates that are compatible with ARIMA modeling and other visualization functions used in this python jupyter notebook. Once the new column was created I replaced the index with it so my new dataframe had two columns. The first column being the year in DateTime format (yyyy-dd-mm) and a second column with the total production of honey for the US in that year. \n",
    "\n",
    "The large advantage with this dataset is that it is split up by each state. While this report is focused mainly on a time series analysis of US honey production to predict future production, the data being divided by each state could be very useful in future analyses that I will discuss later in this report. This advantange potentially allows for identification of states that are trending in the right direction in regards to honey production.\n",
    "\n",
    "The large disadvantage with this dataset, especially in regards to time series analysis, is that it provides data in a yearly time step. In this case I am only taking data from 2000 - 2022 so I am only provided with 23 data points with which to run analysis. It would be much better to get quarterly or monthly data for time series analysis. However, in this case this isn't feasible and we must work with what we have. To overcome this disadvantage I made sure to take over 20 years worth of data. While there is no required minimum of data points for running an ARIMA model, it would work better with more data points and most models require at least 50 observations for accurate forecasting (Jebb et al., 2015). "
   ]
  },
  {
   "cell_type": "markdown",
   "id": "465a96ed",
   "metadata": {},
   "source": [
    "# C. Data Extraction and Preparation"
   ]
  },
  {
   "cell_type": "markdown",
   "id": "ad585205",
   "metadata": {},
   "source": [
    "This report was compiled in Jupyter Notebook on a Python 3 kernel and will be submitted in PDF format. All of the data extraction and analysis, as well as the accompanying code, is provided here in full. I have also provided proper comments and documentation on my code to help provide context for any readers to follow along. \n",
    "\n",
    "Tools used are included below:\n",
    "- pandas for creating dataframes and analytical operations\n",
    "- NumPy as it is used by other packages\n",
    "- MatPlotLib for visualizations and utilization by other packages\n",
    "- scikit-learn for machine learning and calculating MAPE\n",
    "\n",
    "The advantage for using Python in this analysis is that Python is robust in its features and new packages are constantly developed. It is also the language I am most familiar with and have used for every project in this program, besides the required SQL courses. The disdavantage of using Python in this case is that I could use R in place of it. R is probably a better fit for this project as many of the required packages are better utilized in R requiring less lines of code and process faster."
   ]
  },
  {
   "cell_type": "markdown",
   "id": "1ffc7aab",
   "metadata": {},
   "source": [
    "# C1. Importing Packages and Libraries"
   ]
  },
  {
   "cell_type": "code",
   "execution_count": 137,
   "id": "393886fe",
   "metadata": {},
   "outputs": [],
   "source": [
    "# Data Analytics imports\n",
    "import pandas as pd\n",
    "import numpy as np\n",
    "from statsmodels.tsa.stattools import adfuller\n",
    "import re\n",
    "\n",
    "# Visualization imports\n",
    "import matplotlib.pyplot as plt\n",
    "import matplotlib.dates as mdates\n",
    "import seaborn as sns\n",
    "\n",
    "# Model imports\n",
    "from sklearn.model_selection import train_test_split\n",
    "from statsmodels.tsa.seasonal import seasonal_decompose\n",
    "from statsmodels.graphics.tsaplots import plot_acf, plot_pacf\n",
    "from sklearn.metrics import mean_absolute_percentage_error\n",
    "from statsmodels.tsa.arima.model import ARIMA\n",
    "from statsmodels.graphics.tsaplots import plot_predict\n",
    "\n",
    "import warnings\n",
    "warnings.filterwarnings('ignore')"
   ]
  },
  {
   "cell_type": "markdown",
   "id": "afd154cc",
   "metadata": {},
   "source": [
    "# C2. Importing Data"
   ]
  },
  {
   "cell_type": "code",
   "execution_count": 138,
   "id": "67c0e768",
   "metadata": {},
   "outputs": [],
   "source": [
    "# Loading CSV Files\n",
    "honey_2000 = pd.read_csv(r'C:\\Users\\mmorg\\WGU\\D214\\honey_2000.csv', header=None)\n",
    "honey_2000.columns = ['state', 'colonies', 'yieldpercolony', 'totalproduction',\n",
    "                      'lbsofstock', 'avgpriceperlb', 'valueofproduction']\n",
    "\n",
    "honey_2001 = pd.read_csv(r'C:\\Users\\mmorg\\WGU\\D214\\honey_2001.csv', header=None)\n",
    "honey_2001.columns = ['state', 'colonies', 'yieldpercolony', 'totalproduction',\n",
    "                      'lbsofstock', 'avgpriceperlb', 'valueofproduction']\n",
    "\n",
    "honey_2002 = pd.read_csv(r'C:\\Users\\mmorg\\WGU\\D214\\honey_2002.csv', header=None)\n",
    "honey_2002.columns = ['state', 'colonies', 'yieldpercolony', 'totalproduction',\n",
    "                      'lbsofstock', 'avgpriceperlb', 'valueofproduction']\n",
    "\n",
    "honey_2003 = pd.read_csv(r'C:\\Users\\mmorg\\WGU\\D214\\honey_2003.csv', header=None)\n",
    "honey_2003.columns = ['state', 'colonies', 'yieldpercolony', 'totalproduction',\n",
    "                      'lbsofstock', 'avgpriceperlb', 'valueofproduction']\n",
    "\n",
    "honey_2004 = pd.read_csv(r'C:\\Users\\mmorg\\WGU\\D214\\honey_2004.csv', header=None)\n",
    "honey_2004.columns = ['state', 'colonies', 'yieldpercolony', 'totalproduction',\n",
    "                      'lbsofstock', 'avgpriceperlb', 'valueofproduction']\n",
    "\n",
    "honey_2005 = pd.read_csv(r'C:\\Users\\mmorg\\WGU\\D214\\honey_2005.csv', header=None)\n",
    "honey_2005.columns = ['state', 'colonies', 'yieldpercolony', 'totalproduction',\n",
    "                      'lbsofstock', 'avgpriceperlb', 'valueofproduction']\n",
    "\n",
    "honey_2006 = pd.read_csv(r'C:\\Users\\mmorg\\WGU\\D214\\honey_2006.csv', header=None)\n",
    "honey_2006.columns = ['state', 'colonies', 'yieldpercolony', 'totalproduction',\n",
    "                      'lbsofstock', 'avgpriceperlb', 'valueofproduction']\n",
    "\n",
    "honey_2007 = pd.read_csv(r'C:\\Users\\mmorg\\WGU\\D214\\honey_2007.csv', header=None)\n",
    "honey_2007.columns = ['state', 'colonies', 'yieldpercolony', 'totalproduction',\n",
    "                      'lbsofstock', 'avgpriceperlb', 'valueofproduction']\n",
    "\n",
    "honey_2008 = pd.read_csv(r'C:\\Users\\mmorg\\WGU\\D214\\honey_2008.csv', header=None)\n",
    "honey_2008.columns = ['state', 'colonies', 'yieldpercolony', 'totalproduction',\n",
    "                      'lbsofstock', 'avgpriceperlb', 'valueofproduction']\n",
    "\n",
    "honey_2009 = pd.read_csv(r'C:\\Users\\mmorg\\WGU\\D214\\honey_2009.csv', header=None)\n",
    "honey_2009.columns = ['state', 'colonies', 'yieldpercolony', 'totalproduction',\n",
    "                      'lbsofstock', 'avgpriceperlb', 'valueofproduction']\n",
    "\n",
    "honey_2010 = pd.read_csv(r'C:\\Users\\mmorg\\WGU\\D214\\honey_2010.csv', header=None)\n",
    "honey_2010.columns = ['state', 'colonies', 'yieldpercolony', 'totalproduction',\n",
    "                      'lbsofstock', 'avgpriceperlb', 'valueofproduction']\n",
    "\n",
    "honey_2011 = pd.read_csv(r'C:\\Users\\mmorg\\WGU\\D214\\honey_2011.csv', header=None)\n",
    "honey_2011.columns = ['state', 'colonies', 'yieldpercolony', 'totalproduction',\n",
    "                      'lbsofstock', 'avgpriceperlb', 'valueofproduction']\n",
    "\n",
    "honey_2012 = pd.read_csv(r'C:\\Users\\mmorg\\WGU\\D214\\honey_2012.csv', header=None)\n",
    "honey_2012.columns = ['state', 'colonies', 'yieldpercolony', 'totalproduction',\n",
    "                      'lbsofstock', 'avgpriceperlb', 'valueofproduction']\n",
    "\n",
    "honey_2013 = pd.read_csv(r'C:\\Users\\mmorg\\WGU\\D214\\honey_2013.csv', header=None)\n",
    "honey_2013.columns = ['state', 'colonies', 'yieldpercolony', 'totalproduction',\n",
    "                      'lbsofstock', 'avgpriceperlb', 'valueofproduction']\n",
    "\n",
    "honey_2014 = pd.read_csv(r'C:\\Users\\mmorg\\WGU\\D214\\honey_2014.csv', header=None)\n",
    "honey_2014.columns = ['state', 'colonies', 'yieldpercolony', 'totalproduction',\n",
    "                      'lbsofstock', 'avgpriceperlb', 'valueofproduction']\n",
    "\n",
    "honey_2015 = pd.read_csv(r'C:\\Users\\mmorg\\WGU\\D214\\honey_2015.csv', header=None)\n",
    "honey_2015.columns = ['state', 'colonies', 'yieldpercolony', 'totalproduction',\n",
    "                      'lbsofstock', 'avgpriceperlb', 'valueofproduction']\n",
    "\n",
    "honey_2016 = pd.read_csv(r'C:\\Users\\mmorg\\WGU\\D214\\honey_2016.csv', header=None)\n",
    "honey_2016.columns = ['state', 'colonies', 'yieldpercolony', 'totalproduction',\n",
    "                      'lbsofstock', 'avgpriceperlb', 'valueofproduction']\n",
    "\n",
    "honey_2017 = pd.read_csv(r'C:\\Users\\mmorg\\WGU\\D214\\honey_2017.csv', header=None)\n",
    "honey_2017.columns = ['state', 'colonies', 'yieldpercolony', 'totalproduction',\n",
    "                      'lbsofstock', 'avgpriceperlb', 'valueofproduction']\n",
    "\n",
    "honey_2018 = pd.read_csv(r'C:\\Users\\mmorg\\WGU\\D214\\honey_2018.csv', header=None)\n",
    "honey_2018.columns = ['state', 'colonies', 'yieldpercolony', 'totalproduction',\n",
    "                      'lbsofstock', 'avgpriceperlb', 'valueofproduction']\n",
    "\n",
    "honey_2019 = pd.read_csv(r'C:\\Users\\mmorg\\WGU\\D214\\honey_2019.csv', header=None)\n",
    "honey_2019.columns = ['state', 'colonies', 'yieldpercolony', 'totalproduction',\n",
    "                      'lbsofstock', 'avgpriceperlb', 'valueofproduction']\n",
    "\n",
    "honey_2020 = pd.read_csv(r'C:\\Users\\mmorg\\WGU\\D214\\honey_2020.csv', header=None)\n",
    "honey_2020.columns = ['state', 'colonies', 'yieldpercolony', 'totalproduction',\n",
    "                      'lbsofstock', 'avgpriceperlb', 'valueofproduction']\n",
    "\n",
    "honey_2021 = pd.read_csv(r'C:\\Users\\mmorg\\WGU\\D214\\honey_2021.csv', header=None)\n",
    "honey_2021.columns = ['state', 'colonies', 'yieldpercolony', 'totalproduction',\n",
    "                      'lbsofstock', 'avgpriceperlb', 'valueofproduction']\n",
    "\n",
    "honey_2022 = pd.read_csv(r'C:\\Users\\mmorg\\WGU\\D214\\honey_2022.csv', header=None)\n",
    "honey_2022.columns = ['state', 'colonies', 'yieldpercolony', 'totalproduction',\n",
    "                      'lbsofstock', 'avgpriceperlb', 'valueofproduction']"
   ]
  },
  {
   "cell_type": "markdown",
   "id": "46572e1a",
   "metadata": {},
   "source": [
    "# C3. Exploratory Data Analysis"
   ]
  },
  {
   "cell_type": "code",
   "execution_count": 139,
   "id": "e64ec256",
   "metadata": {},
   "outputs": [
    {
     "name": "stdout",
     "output_type": "stream",
     "text": [
      "<class 'pandas.core.frame.DataFrame'>\n",
      "RangeIndex: 47 entries, 0 to 46\n",
      "Data columns (total 7 columns):\n",
      " #   Column             Non-Null Count  Dtype  \n",
      "---  ------             --------------  -----  \n",
      " 0   state              45 non-null     object \n",
      " 1   colonies           45 non-null     float64\n",
      " 2   yieldpercolony     45 non-null     float64\n",
      " 3   totalproduction    45 non-null     float64\n",
      " 4   lbsofstock         45 non-null     float64\n",
      " 5   avgpriceperlb      45 non-null     float64\n",
      " 6   valueofproduction  45 non-null     float64\n",
      "dtypes: float64(6), object(1)\n",
      "memory usage: 2.7+ KB\n"
     ]
    }
   ],
   "source": [
    "honey_2000.info()"
   ]
  },
  {
   "cell_type": "code",
   "execution_count": 140,
   "id": "f9499847",
   "metadata": {},
   "outputs": [
    {
     "name": "stdout",
     "output_type": "stream",
     "text": [
      "state                2\n",
      "colonies             2\n",
      "yieldpercolony       2\n",
      "totalproduction      2\n",
      "lbsofstock           2\n",
      "avgpriceperlb        2\n",
      "valueofproduction    2\n",
      "dtype: int64\n",
      "state                2\n",
      "colonies             2\n",
      "yieldpercolony       2\n",
      "totalproduction      2\n",
      "lbsofstock           2\n",
      "avgpriceperlb        2\n",
      "valueofproduction    2\n",
      "dtype: int64\n",
      "state                2\n",
      "colonies             2\n",
      "yieldpercolony       2\n",
      "totalproduction      2\n",
      "lbsofstock           2\n",
      "avgpriceperlb        2\n",
      "valueofproduction    2\n",
      "dtype: int64\n",
      "state                2\n",
      "colonies             2\n",
      "yieldpercolony       2\n",
      "totalproduction      2\n",
      "lbsofstock           2\n",
      "avgpriceperlb        2\n",
      "valueofproduction    2\n",
      "dtype: int64\n",
      "state                2\n",
      "colonies             2\n",
      "yieldpercolony       2\n",
      "totalproduction      2\n",
      "lbsofstock           2\n",
      "avgpriceperlb        2\n",
      "valueofproduction    2\n",
      "dtype: int64\n",
      "state                2\n",
      "colonies             2\n",
      "yieldpercolony       2\n",
      "totalproduction      2\n",
      "lbsofstock           2\n",
      "avgpriceperlb        2\n",
      "valueofproduction    2\n",
      "dtype: int64\n",
      "state                2\n",
      "colonies             2\n",
      "yieldpercolony       2\n",
      "totalproduction      2\n",
      "lbsofstock           2\n",
      "avgpriceperlb        2\n",
      "valueofproduction    2\n",
      "dtype: int64\n",
      "state                2\n",
      "colonies             2\n",
      "yieldpercolony       2\n",
      "totalproduction      2\n",
      "lbsofstock           2\n",
      "avgpriceperlb        2\n",
      "valueofproduction    2\n",
      "dtype: int64\n",
      "state                2\n",
      "colonies             2\n",
      "yieldpercolony       2\n",
      "totalproduction      2\n",
      "lbsofstock           2\n",
      "avgpriceperlb        2\n",
      "valueofproduction    2\n",
      "dtype: int64\n",
      "state                2\n",
      "colonies             2\n",
      "yieldpercolony       2\n",
      "totalproduction      2\n",
      "lbsofstock           2\n",
      "avgpriceperlb        2\n",
      "valueofproduction    2\n",
      "dtype: int64\n",
      "state                5\n",
      "colonies             5\n",
      "yieldpercolony       5\n",
      "totalproduction      5\n",
      "lbsofstock           5\n",
      "avgpriceperlb        5\n",
      "valueofproduction    5\n",
      "dtype: int64\n",
      "state                5\n",
      "colonies             5\n",
      "yieldpercolony       5\n",
      "totalproduction      5\n",
      "lbsofstock           5\n",
      "avgpriceperlb        5\n",
      "valueofproduction    5\n",
      "dtype: int64\n",
      "state                5\n",
      "colonies             5\n",
      "yieldpercolony       5\n",
      "totalproduction      5\n",
      "lbsofstock           5\n",
      "avgpriceperlb        5\n",
      "valueofproduction    5\n",
      "dtype: int64\n",
      "state                5\n",
      "colonies             5\n",
      "yieldpercolony       5\n",
      "totalproduction      5\n",
      "lbsofstock           5\n",
      "avgpriceperlb        5\n",
      "valueofproduction    5\n",
      "dtype: int64\n",
      "state                5\n",
      "colonies             5\n",
      "yieldpercolony       5\n",
      "totalproduction      5\n",
      "lbsofstock           5\n",
      "avgpriceperlb        5\n",
      "valueofproduction    5\n",
      "dtype: int64\n",
      "state                5\n",
      "colonies             5\n",
      "yieldpercolony       5\n",
      "totalproduction      5\n",
      "lbsofstock           5\n",
      "avgpriceperlb        5\n",
      "valueofproduction    5\n",
      "dtype: int64\n",
      "state                5\n",
      "colonies             5\n",
      "yieldpercolony       5\n",
      "totalproduction      5\n",
      "lbsofstock           5\n",
      "avgpriceperlb        5\n",
      "valueofproduction    5\n",
      "dtype: int64\n",
      "state                5\n",
      "colonies             5\n",
      "yieldpercolony       5\n",
      "totalproduction      5\n",
      "lbsofstock           5\n",
      "avgpriceperlb        5\n",
      "valueofproduction    5\n",
      "dtype: int64\n",
      "state                5\n",
      "colonies             5\n",
      "yieldpercolony       5\n",
      "totalproduction      5\n",
      "lbsofstock           5\n",
      "avgpriceperlb        5\n",
      "valueofproduction    5\n",
      "dtype: int64\n",
      "state                5\n",
      "colonies             5\n",
      "yieldpercolony       5\n",
      "totalproduction      5\n",
      "lbsofstock           5\n",
      "avgpriceperlb        5\n",
      "valueofproduction    5\n",
      "dtype: int64\n",
      "state                5\n",
      "colonies             5\n",
      "yieldpercolony       5\n",
      "totalproduction      5\n",
      "lbsofstock           5\n",
      "avgpriceperlb        5\n",
      "valueofproduction    5\n",
      "dtype: int64\n",
      "state                5\n",
      "colonies             5\n",
      "yieldpercolony       5\n",
      "totalproduction      5\n",
      "lbsofstock           5\n",
      "avgpriceperlb        5\n",
      "valueofproduction    5\n",
      "dtype: int64\n",
      "state                5\n",
      "colonies             5\n",
      "yieldpercolony       5\n",
      "totalproduction      5\n",
      "lbsofstock           5\n",
      "avgpriceperlb        5\n",
      "valueofproduction    5\n",
      "dtype: int64\n"
     ]
    }
   ],
   "source": [
    "#Detecting null values\n",
    "print(honey_2000.isnull().sum())\n",
    "print(honey_2001.isnull().sum())\n",
    "print(honey_2002.isnull().sum())\n",
    "print(honey_2003.isnull().sum())\n",
    "print(honey_2004.isnull().sum())\n",
    "print(honey_2005.isnull().sum())\n",
    "print(honey_2006.isnull().sum())\n",
    "print(honey_2007.isnull().sum())\n",
    "print(honey_2008.isnull().sum())\n",
    "print(honey_2009.isnull().sum())\n",
    "print(honey_2010.isnull().sum())\n",
    "print(honey_2011.isnull().sum())\n",
    "print(honey_2012.isnull().sum())\n",
    "print(honey_2013.isnull().sum())\n",
    "print(honey_2014.isnull().sum())\n",
    "print(honey_2015.isnull().sum())\n",
    "print(honey_2016.isnull().sum())\n",
    "print(honey_2017.isnull().sum())\n",
    "print(honey_2018.isnull().sum())\n",
    "print(honey_2019.isnull().sum())\n",
    "print(honey_2020.isnull().sum())\n",
    "print(honey_2021.isnull().sum())\n",
    "print(honey_2022.isnull().sum())"
   ]
  },
  {
   "cell_type": "code",
   "execution_count": 141,
   "id": "ccf31165",
   "metadata": {},
   "outputs": [],
   "source": [
    "# Drop null rows\n",
    "honey_2000 = honey_2000.dropna()\n",
    "honey_2001 = honey_2001.dropna()\n",
    "honey_2002 = honey_2002.dropna()\n",
    "honey_2003 = honey_2003.dropna()\n",
    "honey_2004 = honey_2004.dropna()\n",
    "honey_2005 = honey_2005.dropna()\n",
    "honey_2006 = honey_2006.dropna()\n",
    "honey_2007 = honey_2007.dropna()\n",
    "honey_2008 = honey_2008.dropna()\n",
    "honey_2009 = honey_2009.dropna()\n",
    "honey_2010 = honey_2010.dropna()\n",
    "honey_2011 = honey_2011.dropna()\n",
    "honey_2012 = honey_2012.dropna()\n",
    "honey_2013 = honey_2013.dropna()\n",
    "honey_2014 = honey_2014.dropna()\n",
    "honey_2015 = honey_2015.dropna()\n",
    "honey_2016 = honey_2016.dropna()\n",
    "honey_2017 = honey_2017.dropna()\n",
    "honey_2018 = honey_2018.dropna()\n",
    "honey_2019 = honey_2019.dropna()\n",
    "honey_2020 = honey_2020.dropna()\n",
    "honey_2021 = honey_2021.dropna()\n",
    "honey_2022 = honey_2022.dropna()"
   ]
  },
  {
   "cell_type": "code",
   "execution_count": 142,
   "id": "b3c6082a",
   "metadata": {},
   "outputs": [
    {
     "name": "stdout",
     "output_type": "stream",
     "text": [
      "state                0\n",
      "colonies             0\n",
      "yieldpercolony       0\n",
      "totalproduction      0\n",
      "lbsofstock           0\n",
      "avgpriceperlb        0\n",
      "valueofproduction    0\n",
      "dtype: int64\n",
      "state                0\n",
      "colonies             0\n",
      "yieldpercolony       0\n",
      "totalproduction      0\n",
      "lbsofstock           0\n",
      "avgpriceperlb        0\n",
      "valueofproduction    0\n",
      "dtype: int64\n",
      "state                0\n",
      "colonies             0\n",
      "yieldpercolony       0\n",
      "totalproduction      0\n",
      "lbsofstock           0\n",
      "avgpriceperlb        0\n",
      "valueofproduction    0\n",
      "dtype: int64\n",
      "state                0\n",
      "colonies             0\n",
      "yieldpercolony       0\n",
      "totalproduction      0\n",
      "lbsofstock           0\n",
      "avgpriceperlb        0\n",
      "valueofproduction    0\n",
      "dtype: int64\n",
      "state                0\n",
      "colonies             0\n",
      "yieldpercolony       0\n",
      "totalproduction      0\n",
      "lbsofstock           0\n",
      "avgpriceperlb        0\n",
      "valueofproduction    0\n",
      "dtype: int64\n",
      "state                0\n",
      "colonies             0\n",
      "yieldpercolony       0\n",
      "totalproduction      0\n",
      "lbsofstock           0\n",
      "avgpriceperlb        0\n",
      "valueofproduction    0\n",
      "dtype: int64\n",
      "state                0\n",
      "colonies             0\n",
      "yieldpercolony       0\n",
      "totalproduction      0\n",
      "lbsofstock           0\n",
      "avgpriceperlb        0\n",
      "valueofproduction    0\n",
      "dtype: int64\n",
      "state                0\n",
      "colonies             0\n",
      "yieldpercolony       0\n",
      "totalproduction      0\n",
      "lbsofstock           0\n",
      "avgpriceperlb        0\n",
      "valueofproduction    0\n",
      "dtype: int64\n",
      "state                0\n",
      "colonies             0\n",
      "yieldpercolony       0\n",
      "totalproduction      0\n",
      "lbsofstock           0\n",
      "avgpriceperlb        0\n",
      "valueofproduction    0\n",
      "dtype: int64\n",
      "state                0\n",
      "colonies             0\n",
      "yieldpercolony       0\n",
      "totalproduction      0\n",
      "lbsofstock           0\n",
      "avgpriceperlb        0\n",
      "valueofproduction    0\n",
      "dtype: int64\n",
      "state                0\n",
      "colonies             0\n",
      "yieldpercolony       0\n",
      "totalproduction      0\n",
      "lbsofstock           0\n",
      "avgpriceperlb        0\n",
      "valueofproduction    0\n",
      "dtype: int64\n",
      "state                0\n",
      "colonies             0\n",
      "yieldpercolony       0\n",
      "totalproduction      0\n",
      "lbsofstock           0\n",
      "avgpriceperlb        0\n",
      "valueofproduction    0\n",
      "dtype: int64\n",
      "state                0\n",
      "colonies             0\n",
      "yieldpercolony       0\n",
      "totalproduction      0\n",
      "lbsofstock           0\n",
      "avgpriceperlb        0\n",
      "valueofproduction    0\n",
      "dtype: int64\n",
      "state                0\n",
      "colonies             0\n",
      "yieldpercolony       0\n",
      "totalproduction      0\n",
      "lbsofstock           0\n",
      "avgpriceperlb        0\n",
      "valueofproduction    0\n",
      "dtype: int64\n",
      "state                0\n",
      "colonies             0\n",
      "yieldpercolony       0\n",
      "totalproduction      0\n",
      "lbsofstock           0\n",
      "avgpriceperlb        0\n",
      "valueofproduction    0\n",
      "dtype: int64\n",
      "state                0\n",
      "colonies             0\n",
      "yieldpercolony       0\n",
      "totalproduction      0\n",
      "lbsofstock           0\n",
      "avgpriceperlb        0\n",
      "valueofproduction    0\n",
      "dtype: int64\n",
      "state                0\n",
      "colonies             0\n",
      "yieldpercolony       0\n",
      "totalproduction      0\n",
      "lbsofstock           0\n",
      "avgpriceperlb        0\n",
      "valueofproduction    0\n",
      "dtype: int64\n",
      "state                0\n",
      "colonies             0\n",
      "yieldpercolony       0\n",
      "totalproduction      0\n",
      "lbsofstock           0\n",
      "avgpriceperlb        0\n",
      "valueofproduction    0\n",
      "dtype: int64\n",
      "state                0\n",
      "colonies             0\n",
      "yieldpercolony       0\n",
      "totalproduction      0\n",
      "lbsofstock           0\n",
      "avgpriceperlb        0\n",
      "valueofproduction    0\n",
      "dtype: int64\n",
      "state                0\n",
      "colonies             0\n",
      "yieldpercolony       0\n",
      "totalproduction      0\n",
      "lbsofstock           0\n",
      "avgpriceperlb        0\n",
      "valueofproduction    0\n",
      "dtype: int64\n",
      "state                0\n",
      "colonies             0\n",
      "yieldpercolony       0\n",
      "totalproduction      0\n",
      "lbsofstock           0\n",
      "avgpriceperlb        0\n",
      "valueofproduction    0\n",
      "dtype: int64\n",
      "state                0\n",
      "colonies             0\n",
      "yieldpercolony       0\n",
      "totalproduction      0\n",
      "lbsofstock           0\n",
      "avgpriceperlb        0\n",
      "valueofproduction    0\n",
      "dtype: int64\n",
      "state                0\n",
      "colonies             0\n",
      "yieldpercolony       0\n",
      "totalproduction      0\n",
      "lbsofstock           0\n",
      "avgpriceperlb        0\n",
      "valueofproduction    0\n",
      "dtype: int64\n"
     ]
    }
   ],
   "source": [
    "#Detecting null values\n",
    "print(honey_2000.isnull().sum())\n",
    "print(honey_2001.isnull().sum())\n",
    "print(honey_2002.isnull().sum())\n",
    "print(honey_2003.isnull().sum())\n",
    "print(honey_2004.isnull().sum())\n",
    "print(honey_2005.isnull().sum())\n",
    "print(honey_2006.isnull().sum())\n",
    "print(honey_2007.isnull().sum())\n",
    "print(honey_2008.isnull().sum())\n",
    "print(honey_2009.isnull().sum())\n",
    "print(honey_2010.isnull().sum())\n",
    "print(honey_2011.isnull().sum())\n",
    "print(honey_2012.isnull().sum())\n",
    "print(honey_2013.isnull().sum())\n",
    "print(honey_2014.isnull().sum())\n",
    "print(honey_2015.isnull().sum())\n",
    "print(honey_2016.isnull().sum())\n",
    "print(honey_2017.isnull().sum())\n",
    "print(honey_2018.isnull().sum())\n",
    "print(honey_2019.isnull().sum())\n",
    "print(honey_2020.isnull().sum())\n",
    "print(honey_2021.isnull().sum())\n",
    "print(honey_2022.isnull().sum())"
   ]
  },
  {
   "cell_type": "code",
   "execution_count": 143,
   "id": "61725312",
   "metadata": {},
   "outputs": [],
   "source": [
    "# Average price per lb was reported as cents from 2001 - 2018 and dollars from 2018 - 2022. \n",
    "# Converting 2018 - 2022 dollars to cents\n",
    "honey_2018[\"avgpriceperlb\"] = honey_2018[\"avgpriceperlb\"]*100\n",
    "honey_2019[\"avgpriceperlb\"] = honey_2019[\"avgpriceperlb\"]*100\n",
    "honey_2020[\"avgpriceperlb\"] = honey_2020[\"avgpriceperlb\"]*100\n",
    "honey_2021[\"avgpriceperlb\"] = honey_2021[\"avgpriceperlb\"]*100\n",
    "honey_2022[\"avgpriceperlb\"] = honey_2022[\"avgpriceperlb\"]*100"
   ]
  },
  {
   "cell_type": "code",
   "execution_count": 144,
   "id": "78e624b2",
   "metadata": {},
   "outputs": [],
   "source": [
    "# Adding Year Tags\n",
    "honey_2000[\"year\"] = \"2000\"\n",
    "honey_2001[\"year\"] = \"2001\"\n",
    "honey_2002[\"year\"] = \"2002\"\n",
    "honey_2003[\"year\"] = \"2003\"\n",
    "honey_2004[\"year\"] = \"2004\"\n",
    "honey_2005[\"year\"] = \"2005\"\n",
    "honey_2006[\"year\"] = \"2006\"\n",
    "honey_2007[\"year\"] = \"2007\"\n",
    "honey_2008[\"year\"] = \"2008\"\n",
    "honey_2009[\"year\"] = \"2009\"\n",
    "honey_2010[\"year\"] = \"2010\"\n",
    "honey_2011[\"year\"] = \"2011\"\n",
    "honey_2012[\"year\"] = \"2012\"\n",
    "honey_2013[\"year\"] = \"2013\"\n",
    "honey_2014[\"year\"] = \"2014\"\n",
    "honey_2015[\"year\"] = \"2015\"\n",
    "honey_2016[\"year\"] = \"2016\"\n",
    "honey_2017[\"year\"] = \"2017\"\n",
    "honey_2018[\"year\"] = \"2018\"\n",
    "honey_2019[\"year\"] = \"2019\"\n",
    "honey_2020[\"year\"] = \"2020\"\n",
    "honey_2021[\"year\"] = \"2021\"\n",
    "honey_2022[\"year\"] = \"2022\""
   ]
  },
  {
   "cell_type": "code",
   "execution_count": 145,
   "id": "8d7a4d7f",
   "metadata": {},
   "outputs": [
    {
     "data": {
      "text/html": [
       "<div>\n",
       "<style scoped>\n",
       "    .dataframe tbody tr th:only-of-type {\n",
       "        vertical-align: middle;\n",
       "    }\n",
       "\n",
       "    .dataframe tbody tr th {\n",
       "        vertical-align: top;\n",
       "    }\n",
       "\n",
       "    .dataframe thead th {\n",
       "        text-align: right;\n",
       "    }\n",
       "</style>\n",
       "<table border=\"1\" class=\"dataframe\">\n",
       "  <thead>\n",
       "    <tr style=\"text-align: right;\">\n",
       "      <th></th>\n",
       "      <th>state</th>\n",
       "      <th>colonies</th>\n",
       "      <th>yieldpercolony</th>\n",
       "      <th>totalproduction</th>\n",
       "      <th>lbsofstock</th>\n",
       "      <th>avgpriceperlb</th>\n",
       "      <th>valueofproduction</th>\n",
       "      <th>year</th>\n",
       "    </tr>\n",
       "  </thead>\n",
       "  <tbody>\n",
       "    <tr>\n",
       "      <th>0</th>\n",
       "      <td>AL</td>\n",
       "      <td>16.0</td>\n",
       "      <td>78.0</td>\n",
       "      <td>1248.0</td>\n",
       "      <td>187.0</td>\n",
       "      <td>59.0</td>\n",
       "      <td>736.0</td>\n",
       "      <td>2000</td>\n",
       "    </tr>\n",
       "    <tr>\n",
       "      <th>1</th>\n",
       "      <td>AZ</td>\n",
       "      <td>40.0</td>\n",
       "      <td>59.0</td>\n",
       "      <td>2360.0</td>\n",
       "      <td>1322.0</td>\n",
       "      <td>73.0</td>\n",
       "      <td>1723.0</td>\n",
       "      <td>2000</td>\n",
       "    </tr>\n",
       "    <tr>\n",
       "      <th>2</th>\n",
       "      <td>AR</td>\n",
       "      <td>55.0</td>\n",
       "      <td>93.0</td>\n",
       "      <td>5115.0</td>\n",
       "      <td>3529.0</td>\n",
       "      <td>57.0</td>\n",
       "      <td>2916.0</td>\n",
       "      <td>2000</td>\n",
       "    </tr>\n",
       "    <tr>\n",
       "      <th>3</th>\n",
       "      <td>CA</td>\n",
       "      <td>440.0</td>\n",
       "      <td>70.0</td>\n",
       "      <td>30800.0</td>\n",
       "      <td>11396.0</td>\n",
       "      <td>59.0</td>\n",
       "      <td>18172.0</td>\n",
       "      <td>2000</td>\n",
       "    </tr>\n",
       "    <tr>\n",
       "      <th>4</th>\n",
       "      <td>CO</td>\n",
       "      <td>29.0</td>\n",
       "      <td>60.0</td>\n",
       "      <td>1740.0</td>\n",
       "      <td>957.0</td>\n",
       "      <td>62.0</td>\n",
       "      <td>1079.0</td>\n",
       "      <td>2000</td>\n",
       "    </tr>\n",
       "  </tbody>\n",
       "</table>\n",
       "</div>"
      ],
      "text/plain": [
       "  state  colonies  yieldpercolony  totalproduction  lbsofstock  avgpriceperlb  \\\n",
       "0    AL      16.0            78.0           1248.0       187.0           59.0   \n",
       "1    AZ      40.0            59.0           2360.0      1322.0           73.0   \n",
       "2    AR      55.0            93.0           5115.0      3529.0           57.0   \n",
       "3    CA     440.0            70.0          30800.0     11396.0           59.0   \n",
       "4    CO      29.0            60.0           1740.0       957.0           62.0   \n",
       "\n",
       "   valueofproduction  year  \n",
       "0              736.0  2000  \n",
       "1             1723.0  2000  \n",
       "2             2916.0  2000  \n",
       "3            18172.0  2000  \n",
       "4             1079.0  2000  "
      ]
     },
     "execution_count": 145,
     "metadata": {},
     "output_type": "execute_result"
    }
   ],
   "source": [
    "# Verify year column was added\n",
    "honey_2000.head(5)"
   ]
  },
  {
   "cell_type": "code",
   "execution_count": 146,
   "id": "71f20555",
   "metadata": {},
   "outputs": [
    {
     "data": {
      "text/html": [
       "<div>\n",
       "<style scoped>\n",
       "    .dataframe tbody tr th:only-of-type {\n",
       "        vertical-align: middle;\n",
       "    }\n",
       "\n",
       "    .dataframe tbody tr th {\n",
       "        vertical-align: top;\n",
       "    }\n",
       "\n",
       "    .dataframe thead th {\n",
       "        text-align: right;\n",
       "    }\n",
       "</style>\n",
       "<table border=\"1\" class=\"dataframe\">\n",
       "  <thead>\n",
       "    <tr style=\"text-align: right;\">\n",
       "      <th></th>\n",
       "      <th>state</th>\n",
       "      <th>colonies</th>\n",
       "      <th>yieldpercolony</th>\n",
       "      <th>totalproduction</th>\n",
       "      <th>lbsofstock</th>\n",
       "      <th>avgpriceperlb</th>\n",
       "      <th>valueofproduction</th>\n",
       "      <th>year</th>\n",
       "    </tr>\n",
       "  </thead>\n",
       "  <tbody>\n",
       "    <tr>\n",
       "      <th>0</th>\n",
       "      <td>Alabama</td>\n",
       "      <td>7.0</td>\n",
       "      <td>39.0</td>\n",
       "      <td>273.0</td>\n",
       "      <td>66.0</td>\n",
       "      <td>543.0</td>\n",
       "      <td>1482.0</td>\n",
       "      <td>2020</td>\n",
       "    </tr>\n",
       "    <tr>\n",
       "      <th>1</th>\n",
       "      <td>Arizona</td>\n",
       "      <td>25.0</td>\n",
       "      <td>36.0</td>\n",
       "      <td>900.0</td>\n",
       "      <td>360.0</td>\n",
       "      <td>218.0</td>\n",
       "      <td>1962.0</td>\n",
       "      <td>2020</td>\n",
       "    </tr>\n",
       "    <tr>\n",
       "      <th>2</th>\n",
       "      <td>Arkansas</td>\n",
       "      <td>20.0</td>\n",
       "      <td>49.0</td>\n",
       "      <td>980.0</td>\n",
       "      <td>176.0</td>\n",
       "      <td>180.0</td>\n",
       "      <td>1764.0</td>\n",
       "      <td>2020</td>\n",
       "    </tr>\n",
       "    <tr>\n",
       "      <th>3</th>\n",
       "      <td>California</td>\n",
       "      <td>320.0</td>\n",
       "      <td>43.0</td>\n",
       "      <td>13760.0</td>\n",
       "      <td>2752.0</td>\n",
       "      <td>178.0</td>\n",
       "      <td>24493.0</td>\n",
       "      <td>2020</td>\n",
       "    </tr>\n",
       "    <tr>\n",
       "      <th>4</th>\n",
       "      <td>Colorado</td>\n",
       "      <td>30.0</td>\n",
       "      <td>41.0</td>\n",
       "      <td>1230.0</td>\n",
       "      <td>455.0</td>\n",
       "      <td>209.0</td>\n",
       "      <td>2571.0</td>\n",
       "      <td>2020</td>\n",
       "    </tr>\n",
       "  </tbody>\n",
       "</table>\n",
       "</div>"
      ],
      "text/plain": [
       "        state  colonies  yieldpercolony  totalproduction  lbsofstock  \\\n",
       "0     Alabama       7.0            39.0            273.0        66.0   \n",
       "1     Arizona      25.0            36.0            900.0       360.0   \n",
       "2    Arkansas      20.0            49.0            980.0       176.0   \n",
       "3  California     320.0            43.0          13760.0      2752.0   \n",
       "4    Colorado      30.0            41.0           1230.0       455.0   \n",
       "\n",
       "   avgpriceperlb  valueofproduction  year  \n",
       "0          543.0             1482.0  2020  \n",
       "1          218.0             1962.0  2020  \n",
       "2          180.0             1764.0  2020  \n",
       "3          178.0            24493.0  2020  \n",
       "4          209.0             2571.0  2020  "
      ]
     },
     "execution_count": 146,
     "metadata": {},
     "output_type": "execute_result"
    }
   ],
   "source": [
    "# Compare avgpriceperlb columns\n",
    "honey_2020.head(5)"
   ]
  },
  {
   "cell_type": "code",
   "execution_count": 147,
   "id": "12a2990b",
   "metadata": {},
   "outputs": [],
   "source": [
    "# Concatenate all files together\n",
    "df = pd.concat([honey_2000, honey_2001, honey_2002, \n",
    "                honey_2003, honey_2004, honey_2005, \n",
    "                honey_2006, honey_2007, honey_2008, \n",
    "                honey_2009, honey_2010, honey_2011, \n",
    "                honey_2012, honey_2013, honey_2014, \n",
    "                honey_2015, honey_2016, honey_2017, \n",
    "                honey_2018, honey_2019, honey_2020, \n",
    "                honey_2021, honey_2022], axis=0)"
   ]
  },
  {
   "cell_type": "code",
   "execution_count": 148,
   "id": "536dcb22",
   "metadata": {},
   "outputs": [
    {
     "data": {
      "text/plain": [
       "state                0\n",
       "colonies             0\n",
       "yieldpercolony       0\n",
       "totalproduction      0\n",
       "lbsofstock           0\n",
       "avgpriceperlb        0\n",
       "valueofproduction    0\n",
       "year                 0\n",
       "dtype: int64"
      ]
     },
     "execution_count": 148,
     "metadata": {},
     "output_type": "execute_result"
    }
   ],
   "source": [
    "df.isnull().sum()"
   ]
  },
  {
   "cell_type": "code",
   "execution_count": 149,
   "id": "22997ca3",
   "metadata": {},
   "outputs": [
    {
     "name": "stdout",
     "output_type": "stream",
     "text": [
      "<class 'pandas.core.frame.DataFrame'>\n",
      "Int64Index: 984 entries, 0 to 45\n",
      "Data columns (total 8 columns):\n",
      " #   Column             Non-Null Count  Dtype  \n",
      "---  ------             --------------  -----  \n",
      " 0   state              984 non-null    object \n",
      " 1   colonies           984 non-null    float64\n",
      " 2   yieldpercolony     984 non-null    float64\n",
      " 3   totalproduction    984 non-null    float64\n",
      " 4   lbsofstock         984 non-null    float64\n",
      " 5   avgpriceperlb      984 non-null    float64\n",
      " 6   valueofproduction  984 non-null    float64\n",
      " 7   year               984 non-null    object \n",
      "dtypes: float64(6), object(2)\n",
      "memory usage: 69.2+ KB\n"
     ]
    }
   ],
   "source": [
    "# Verify new DataFrame\n",
    "df.info()"
   ]
  },
  {
   "cell_type": "markdown",
   "id": "c4a04e06",
   "metadata": {},
   "source": [
    "# C4. Data Wrangling"
   ]
  },
  {
   "cell_type": "code",
   "execution_count": 150,
   "id": "977c8b6c",
   "metadata": {},
   "outputs": [
    {
     "data": {
      "text/plain": [
       "array(['AL', 'AZ', 'AR', 'CA', 'CO', 'FL', 'GA', 'HI', 'ID', 'IL', 'IN',\n",
       "       'IA', 'KS', 'KY', 'LA', 'ME', 'MD', 'MI', 'MN', 'MS', 'MO', 'MT',\n",
       "       'NE', 'NV', 'NJ', 'NM', 'NY', 'NC', 'ND', 'OH', 'OK', 'OR', 'PA',\n",
       "       'SD', 'TN', 'TX', 'UT', 'VT', 'VA', 'WA', 'WV', 'WI', 'WY',\n",
       "       ' Sts 4/ 5/', 'US 5/', 'SC', ' Sts 5/ 6/', 'US 6/', ' Sts 7/ 8/',\n",
       "       'US 8/ 9/', ' Sts 6/ 7/', 'US 7/ 8/', 'Alabama', 'Arizona',\n",
       "       'Arkansas', 'California', 'Colorado', 'Florida', 'Georgia',\n",
       "       'Hawaii', 'Idaho', 'Illinois', 'Indiana', 'Iowa', 'Kansas',\n",
       "       'Kentucky', 'Louisiana', 'Maine', 'Michigan', 'Minnesota',\n",
       "       'Mississippi', 'Missouri', 'Montana', 'Nebraska', 'New Jersey',\n",
       "       'New Mexico', 'New York', 'North Carolina', 'North Dakota', 'Ohio',\n",
       "       'Oregon', 'Pennsylvania', 'South Dakota', 'Tennessee', 'Texas',\n",
       "       'Utah', 'Vermont', 'Virginia', 'Washington', 'West Virginia',\n",
       "       'Wisconsin', 'Wyoming', 'Other States 5/ 6/',\n",
       "       'United States 6/ 7/', 'South Carolina'], dtype=object)"
      ]
     },
     "execution_count": 150,
     "metadata": {},
     "output_type": "execute_result"
    }
   ],
   "source": [
    "# Look at all state tags\n",
    "df.state.unique()"
   ]
  },
  {
   "cell_type": "code",
   "execution_count": 151,
   "id": "15f52797",
   "metadata": {},
   "outputs": [
    {
     "name": "stdout",
     "output_type": "stream",
     "text": [
      "Pennsylvania    13\n",
      "Iowa            13\n",
      "Illinois        13\n",
      "Idaho           13\n",
      "Georgia         13\n",
      "                ..\n",
      "SC               2\n",
      "US 7/ 8/         1\n",
      " Sts 6/ 7/       1\n",
      " Sts 5/ 6/       1\n",
      "US 6/            1\n",
      "Name: state, Length: 95, dtype: int64\n"
     ]
    }
   ],
   "source": [
    "# Count state tags\n",
    "print(df.state.value_counts())"
   ]
  },
  {
   "cell_type": "code",
   "execution_count": 152,
   "id": "7946bb86",
   "metadata": {},
   "outputs": [],
   "source": [
    "# Create a dictionary for converting all current state names to correct abbreviations\n",
    "state_corrections = {'Alabama': 'AL', 'Alaska': 'AK', 'Arizona': 'AZ', 'Arkansas': 'AR', 'California': 'CA', 'Colorado': 'CO', \n",
    "                     'Connecticut': 'CT', 'Delaware': 'DE', 'Florida': 'FL', 'Georgia': 'GA', 'Hawaii': 'HI', \n",
    "                   'Idaho': 'ID', 'Illinois': 'IL', 'Indiana': 'IN', 'Iowa': 'IA', 'Kansas': 'KS', 'Kentucky': 'KY', \n",
    "                   'Louisiana': 'LA', 'Maine': 'ME', 'Maryland': 'MD', 'Massachusetts': 'MA', 'Michigan': 'MI', 'Minnesota': 'MN', \n",
    "                     'Mississippi': 'MS', 'Missouri': 'MO', 'Montana': 'MT', 'Nebraska': 'NE', \n",
    "                     'Nevada': 'NV', 'New Jersey': 'NJ', 'New Mexico': 'NM', 'New York': 'NY', \n",
    "                   'North Carolina': 'NC', 'North Dakota': 'ND', 'Ohio': 'OH', 'Oklahoma': 'OK', 'Oregon': 'OR', \n",
    "                     'Pennsylvania': 'PA', 'Rhode Island': 'RI', 'South Dakota': 'SD', 'Tennessee': 'TN', 'Texas': 'TX', \n",
    "                     'Utah': 'UT', 'Vermont': 'VT', 'Virginia': 'VA', 'Washington': 'WA', 'West Virginia': 'WV',\n",
    "                   'Wisconsin': 'WI', 'Wyoming': 'WY', 'South Carolina': 'SC', 'AL': 'AL', 'AK': 'AK', \n",
    "                     'AZ': 'AZ', 'AR': 'AR', 'CA': 'CA', 'CO': 'CO', \n",
    "                     'CT': 'CT', 'DE': 'DE', 'FL': 'FL', 'GA': 'GA', 'HI': 'HI', \n",
    "                   'ID': 'ID', 'IL': 'IL', 'IN': 'IN', 'IA': 'IA', 'KS': 'KS', 'KY': 'KY', \n",
    "                   'LA': 'LA', 'ME': 'ME', 'MD': 'MD', 'MA': 'MA', 'MI': 'MI', 'MN': 'MN', \n",
    "                     'MS': 'MS', 'MO': 'MO', 'MT': 'MT', 'NE': 'NE', \n",
    "                     'NV': 'NV', 'NJ': 'NJ', 'NM': 'NM', 'NY': 'NY', \n",
    "                   'NC': 'NC', 'ND': 'ND', 'OH': 'OH', 'OK': 'OK', 'OR': 'OR', \n",
    "                     'PA': 'PA', 'RI': 'RI', 'SD': 'SD', 'TN': 'TN', 'TX': 'TX', \n",
    "                     'UT': 'UT', 'VT': 'VT', 'VA': 'VA', 'WA': 'WA', \n",
    "                   'WI': 'WI', 'WV': 'WV', 'WY': 'WY', 'SC': 'SC',\n",
    "                    ' Sts 5/ 6/': 'OS', 'US 6/': 'US', ' Sts 7/ 8/': 'OS',\n",
    "                   'US 8/ 9/': 'US', ' Sts 6/ 7/': 'OS', 'US 7/ 8/': 'US',\n",
    "                    'Other States 5/ 6/': 'OS', 'United States 6/ 7/': 'US',\n",
    "                    ' Sts 4/ 5/': 'OS', 'US 5/': 'US'}\n",
    "# Assign dictionary to current state column and define it as an object type\n",
    "df[\"state\"] = df[\"state\"].map(state_corrections)\n",
    "df[\"state\"] = df[\"state\"].astype('object')\n"
   ]
  },
  {
   "cell_type": "code",
   "execution_count": 153,
   "id": "6beefbaf",
   "metadata": {},
   "outputs": [
    {
     "data": {
      "text/html": [
       "<div>\n",
       "<style scoped>\n",
       "    .dataframe tbody tr th:only-of-type {\n",
       "        vertical-align: middle;\n",
       "    }\n",
       "\n",
       "    .dataframe tbody tr th {\n",
       "        vertical-align: top;\n",
       "    }\n",
       "\n",
       "    .dataframe thead th {\n",
       "        text-align: right;\n",
       "    }\n",
       "</style>\n",
       "<table border=\"1\" class=\"dataframe\">\n",
       "  <thead>\n",
       "    <tr style=\"text-align: right;\">\n",
       "      <th></th>\n",
       "      <th>state</th>\n",
       "      <th>colonies</th>\n",
       "      <th>yieldpercolony</th>\n",
       "      <th>totalproduction</th>\n",
       "      <th>lbsofstock</th>\n",
       "      <th>avgpriceperlb</th>\n",
       "      <th>valueofproduction</th>\n",
       "      <th>year</th>\n",
       "    </tr>\n",
       "  </thead>\n",
       "  <tbody>\n",
       "    <tr>\n",
       "      <th>0</th>\n",
       "      <td>AL</td>\n",
       "      <td>16.0</td>\n",
       "      <td>78.0</td>\n",
       "      <td>1248.0</td>\n",
       "      <td>187.0</td>\n",
       "      <td>59.0</td>\n",
       "      <td>736.0</td>\n",
       "      <td>2000</td>\n",
       "    </tr>\n",
       "    <tr>\n",
       "      <th>1</th>\n",
       "      <td>AZ</td>\n",
       "      <td>40.0</td>\n",
       "      <td>59.0</td>\n",
       "      <td>2360.0</td>\n",
       "      <td>1322.0</td>\n",
       "      <td>73.0</td>\n",
       "      <td>1723.0</td>\n",
       "      <td>2000</td>\n",
       "    </tr>\n",
       "    <tr>\n",
       "      <th>2</th>\n",
       "      <td>AR</td>\n",
       "      <td>55.0</td>\n",
       "      <td>93.0</td>\n",
       "      <td>5115.0</td>\n",
       "      <td>3529.0</td>\n",
       "      <td>57.0</td>\n",
       "      <td>2916.0</td>\n",
       "      <td>2000</td>\n",
       "    </tr>\n",
       "    <tr>\n",
       "      <th>3</th>\n",
       "      <td>CA</td>\n",
       "      <td>440.0</td>\n",
       "      <td>70.0</td>\n",
       "      <td>30800.0</td>\n",
       "      <td>11396.0</td>\n",
       "      <td>59.0</td>\n",
       "      <td>18172.0</td>\n",
       "      <td>2000</td>\n",
       "    </tr>\n",
       "    <tr>\n",
       "      <th>4</th>\n",
       "      <td>CO</td>\n",
       "      <td>29.0</td>\n",
       "      <td>60.0</td>\n",
       "      <td>1740.0</td>\n",
       "      <td>957.0</td>\n",
       "      <td>62.0</td>\n",
       "      <td>1079.0</td>\n",
       "      <td>2000</td>\n",
       "    </tr>\n",
       "  </tbody>\n",
       "</table>\n",
       "</div>"
      ],
      "text/plain": [
       "  state  colonies  yieldpercolony  totalproduction  lbsofstock  avgpriceperlb  \\\n",
       "0    AL      16.0            78.0           1248.0       187.0           59.0   \n",
       "1    AZ      40.0            59.0           2360.0      1322.0           73.0   \n",
       "2    AR      55.0            93.0           5115.0      3529.0           57.0   \n",
       "3    CA     440.0            70.0          30800.0     11396.0           59.0   \n",
       "4    CO      29.0            60.0           1740.0       957.0           62.0   \n",
       "\n",
       "   valueofproduction  year  \n",
       "0              736.0  2000  \n",
       "1             1723.0  2000  \n",
       "2             2916.0  2000  \n",
       "3            18172.0  2000  \n",
       "4             1079.0  2000  "
      ]
     },
     "execution_count": 153,
     "metadata": {},
     "output_type": "execute_result"
    }
   ],
   "source": [
    "# Verify that .map function worked on state column\n",
    "df.head(5)"
   ]
  },
  {
   "cell_type": "code",
   "execution_count": 154,
   "id": "0e153b8a",
   "metadata": {},
   "outputs": [
    {
     "data": {
      "text/plain": [
       "array(['AL', 'AZ', 'AR', 'CA', 'CO', 'FL', 'GA', 'HI', 'ID', 'IL', 'IN',\n",
       "       'IA', 'KS', 'KY', 'LA', 'ME', 'MD', 'MI', 'MN', 'MS', 'MO', 'MT',\n",
       "       'NE', 'NV', 'NJ', 'NM', 'NY', 'NC', 'ND', 'OH', 'OK', 'OR', 'PA',\n",
       "       'SD', 'TN', 'TX', 'UT', 'VT', 'VA', 'WA', 'WV', 'WI', 'WY', 'OS',\n",
       "       'US', 'SC'], dtype=object)"
      ]
     },
     "execution_count": 154,
     "metadata": {},
     "output_type": "execute_result"
    }
   ],
   "source": [
    "# More verification that state column was converted correctly\n",
    "df.state.unique()"
   ]
  },
  {
   "cell_type": "code",
   "execution_count": 155,
   "id": "f40621f4",
   "metadata": {},
   "outputs": [
    {
     "name": "stdout",
     "output_type": "stream",
     "text": [
      "AL    23\n",
      "AR    23\n",
      "AZ    23\n",
      "CA    23\n",
      "CO    23\n",
      "FL    23\n",
      "GA    23\n",
      "HI    22\n",
      "IA    23\n",
      "ID    23\n",
      "IL    23\n",
      "IN    23\n",
      "KS    23\n",
      "KY    23\n",
      "LA    23\n",
      "MD     4\n",
      "ME    23\n",
      "MI    23\n",
      "MN    23\n",
      "MO    23\n",
      "MS    23\n",
      "MT    23\n",
      "NC    23\n",
      "ND    23\n",
      "NE    23\n",
      "NJ    23\n",
      "NM    13\n",
      "NV    10\n",
      "NY    23\n",
      "OH    23\n",
      "OK     4\n",
      "OR    23\n",
      "OS    23\n",
      "PA    23\n",
      "SC    11\n",
      "SD    23\n",
      "TN    23\n",
      "TX    23\n",
      "US    23\n",
      "UT    23\n",
      "VA    23\n",
      "VT    23\n",
      "WA    23\n",
      "WI    23\n",
      "WV    23\n",
      "WY    23\n",
      "Name: state, dtype: int64\n"
     ]
    }
   ],
   "source": [
    "# Final verification that state column was converted correctly\n",
    "print(df.state.value_counts().sort_index())"
   ]
  },
  {
   "cell_type": "code",
   "execution_count": 156,
   "id": "888af5fe",
   "metadata": {},
   "outputs": [
    {
     "data": {
      "text/plain": [
       "state                0\n",
       "colonies             0\n",
       "yieldpercolony       0\n",
       "totalproduction      0\n",
       "lbsofstock           0\n",
       "avgpriceperlb        0\n",
       "valueofproduction    0\n",
       "year                 0\n",
       "dtype: int64"
      ]
     },
     "execution_count": 156,
     "metadata": {},
     "output_type": "execute_result"
    }
   ],
   "source": [
    "# Checking for any null values before exporting DataFrame to CSV\n",
    "df.isnull().sum()"
   ]
  },
  {
   "cell_type": "code",
   "execution_count": 157,
   "id": "53646346",
   "metadata": {},
   "outputs": [],
   "source": [
    "# Convert colonies column to actual value\n",
    "df[\"colonies\"] = df[\"colonies\"]*1000"
   ]
  },
  {
   "cell_type": "code",
   "execution_count": 158,
   "id": "128c43f5",
   "metadata": {},
   "outputs": [],
   "source": [
    "# Convert production column to actual value\n",
    "df[\"totalproduction\"] = df[\"totalproduction\"]*1000"
   ]
  },
  {
   "cell_type": "code",
   "execution_count": 159,
   "id": "db5c9415",
   "metadata": {},
   "outputs": [],
   "source": [
    "# Convert stock column to actual value\n",
    "df[\"lbsofstock\"] = df[\"lbsofstock\"]*1000"
   ]
  },
  {
   "cell_type": "code",
   "execution_count": 160,
   "id": "ba7994c3",
   "metadata": {},
   "outputs": [],
   "source": [
    "# Convert value column to actual value\n",
    "df[\"valueofproduction\"] = df[\"valueofproduction\"]*1000"
   ]
  },
  {
   "cell_type": "code",
   "execution_count": 161,
   "id": "55927812",
   "metadata": {
    "scrolled": true
   },
   "outputs": [
    {
     "data": {
      "text/html": [
       "<div>\n",
       "<style scoped>\n",
       "    .dataframe tbody tr th:only-of-type {\n",
       "        vertical-align: middle;\n",
       "    }\n",
       "\n",
       "    .dataframe tbody tr th {\n",
       "        vertical-align: top;\n",
       "    }\n",
       "\n",
       "    .dataframe thead th {\n",
       "        text-align: right;\n",
       "    }\n",
       "</style>\n",
       "<table border=\"1\" class=\"dataframe\">\n",
       "  <thead>\n",
       "    <tr style=\"text-align: right;\">\n",
       "      <th></th>\n",
       "      <th>state</th>\n",
       "      <th>colonies</th>\n",
       "      <th>yieldpercolony</th>\n",
       "      <th>totalproduction</th>\n",
       "      <th>lbsofstock</th>\n",
       "      <th>avgpriceperlb</th>\n",
       "      <th>valueofproduction</th>\n",
       "      <th>year</th>\n",
       "      <th>yearsteps</th>\n",
       "    </tr>\n",
       "  </thead>\n",
       "  <tbody>\n",
       "    <tr>\n",
       "      <th>0</th>\n",
       "      <td>AL</td>\n",
       "      <td>16000.0</td>\n",
       "      <td>78.0</td>\n",
       "      <td>1248000.0</td>\n",
       "      <td>187000.0</td>\n",
       "      <td>59.0</td>\n",
       "      <td>736000.0</td>\n",
       "      <td>2000</td>\n",
       "      <td>2000-01-01</td>\n",
       "    </tr>\n",
       "    <tr>\n",
       "      <th>1</th>\n",
       "      <td>AZ</td>\n",
       "      <td>40000.0</td>\n",
       "      <td>59.0</td>\n",
       "      <td>2360000.0</td>\n",
       "      <td>1322000.0</td>\n",
       "      <td>73.0</td>\n",
       "      <td>1723000.0</td>\n",
       "      <td>2000</td>\n",
       "      <td>2000-01-01</td>\n",
       "    </tr>\n",
       "    <tr>\n",
       "      <th>2</th>\n",
       "      <td>AR</td>\n",
       "      <td>55000.0</td>\n",
       "      <td>93.0</td>\n",
       "      <td>5115000.0</td>\n",
       "      <td>3529000.0</td>\n",
       "      <td>57.0</td>\n",
       "      <td>2916000.0</td>\n",
       "      <td>2000</td>\n",
       "      <td>2000-01-01</td>\n",
       "    </tr>\n",
       "    <tr>\n",
       "      <th>3</th>\n",
       "      <td>CA</td>\n",
       "      <td>440000.0</td>\n",
       "      <td>70.0</td>\n",
       "      <td>30800000.0</td>\n",
       "      <td>11396000.0</td>\n",
       "      <td>59.0</td>\n",
       "      <td>18172000.0</td>\n",
       "      <td>2000</td>\n",
       "      <td>2000-01-01</td>\n",
       "    </tr>\n",
       "    <tr>\n",
       "      <th>4</th>\n",
       "      <td>CO</td>\n",
       "      <td>29000.0</td>\n",
       "      <td>60.0</td>\n",
       "      <td>1740000.0</td>\n",
       "      <td>957000.0</td>\n",
       "      <td>62.0</td>\n",
       "      <td>1079000.0</td>\n",
       "      <td>2000</td>\n",
       "      <td>2000-01-01</td>\n",
       "    </tr>\n",
       "    <tr>\n",
       "      <th>...</th>\n",
       "      <td>...</td>\n",
       "      <td>...</td>\n",
       "      <td>...</td>\n",
       "      <td>...</td>\n",
       "      <td>...</td>\n",
       "      <td>...</td>\n",
       "      <td>...</td>\n",
       "      <td>...</td>\n",
       "      <td>...</td>\n",
       "    </tr>\n",
       "    <tr>\n",
       "      <th>39</th>\n",
       "      <td>WV</td>\n",
       "      <td>7000.0</td>\n",
       "      <td>39.0</td>\n",
       "      <td>273000.0</td>\n",
       "      <td>98000.0</td>\n",
       "      <td>525.0</td>\n",
       "      <td>1433000.0</td>\n",
       "      <td>2022</td>\n",
       "      <td>2022-01-01</td>\n",
       "    </tr>\n",
       "    <tr>\n",
       "      <th>40</th>\n",
       "      <td>WI</td>\n",
       "      <td>53000.0</td>\n",
       "      <td>55.0</td>\n",
       "      <td>2915000.0</td>\n",
       "      <td>816000.0</td>\n",
       "      <td>304.0</td>\n",
       "      <td>8862000.0</td>\n",
       "      <td>2022</td>\n",
       "      <td>2022-01-01</td>\n",
       "    </tr>\n",
       "    <tr>\n",
       "      <th>41</th>\n",
       "      <td>WY</td>\n",
       "      <td>30000.0</td>\n",
       "      <td>45.0</td>\n",
       "      <td>1350000.0</td>\n",
       "      <td>230000.0</td>\n",
       "      <td>264.0</td>\n",
       "      <td>3564000.0</td>\n",
       "      <td>2022</td>\n",
       "      <td>2022-01-01</td>\n",
       "    </tr>\n",
       "    <tr>\n",
       "      <th>43</th>\n",
       "      <td>OS</td>\n",
       "      <td>53000.0</td>\n",
       "      <td>63.0</td>\n",
       "      <td>3316000.0</td>\n",
       "      <td>501000.0</td>\n",
       "      <td>367.0</td>\n",
       "      <td>12170000.0</td>\n",
       "      <td>2022</td>\n",
       "      <td>2022-01-01</td>\n",
       "    </tr>\n",
       "    <tr>\n",
       "      <th>45</th>\n",
       "      <td>US</td>\n",
       "      <td>2667000.0</td>\n",
       "      <td>47.0</td>\n",
       "      <td>125331000.0</td>\n",
       "      <td>23309000.0</td>\n",
       "      <td>296.0</td>\n",
       "      <td>370980000.0</td>\n",
       "      <td>2022</td>\n",
       "      <td>2022-01-01</td>\n",
       "    </tr>\n",
       "  </tbody>\n",
       "</table>\n",
       "<p>984 rows × 9 columns</p>\n",
       "</div>"
      ],
      "text/plain": [
       "   state   colonies  yieldpercolony  totalproduction  lbsofstock  \\\n",
       "0     AL    16000.0            78.0        1248000.0    187000.0   \n",
       "1     AZ    40000.0            59.0        2360000.0   1322000.0   \n",
       "2     AR    55000.0            93.0        5115000.0   3529000.0   \n",
       "3     CA   440000.0            70.0       30800000.0  11396000.0   \n",
       "4     CO    29000.0            60.0        1740000.0    957000.0   \n",
       "..   ...        ...             ...              ...         ...   \n",
       "39    WV     7000.0            39.0         273000.0     98000.0   \n",
       "40    WI    53000.0            55.0        2915000.0    816000.0   \n",
       "41    WY    30000.0            45.0        1350000.0    230000.0   \n",
       "43    OS    53000.0            63.0        3316000.0    501000.0   \n",
       "45    US  2667000.0            47.0      125331000.0  23309000.0   \n",
       "\n",
       "    avgpriceperlb  valueofproduction  year  yearsteps  \n",
       "0            59.0           736000.0  2000 2000-01-01  \n",
       "1            73.0          1723000.0  2000 2000-01-01  \n",
       "2            57.0          2916000.0  2000 2000-01-01  \n",
       "3            59.0         18172000.0  2000 2000-01-01  \n",
       "4            62.0          1079000.0  2000 2000-01-01  \n",
       "..            ...                ...   ...        ...  \n",
       "39          525.0          1433000.0  2022 2022-01-01  \n",
       "40          304.0          8862000.0  2022 2022-01-01  \n",
       "41          264.0          3564000.0  2022 2022-01-01  \n",
       "43          367.0         12170000.0  2022 2022-01-01  \n",
       "45          296.0        370980000.0  2022 2022-01-01  \n",
       "\n",
       "[984 rows x 9 columns]"
      ]
     },
     "execution_count": 161,
     "metadata": {},
     "output_type": "execute_result"
    }
   ],
   "source": [
    "# Add timestep column\n",
    "import pandas as pd\n",
    "df['yearsteps'] = pd.to_datetime(df.year, format='%Y')\n",
    "df"
   ]
  },
  {
   "cell_type": "code",
   "execution_count": 162,
   "id": "bf914211",
   "metadata": {},
   "outputs": [
    {
     "name": "stdout",
     "output_type": "stream",
     "text": [
      "<class 'pandas.core.frame.DataFrame'>\n",
      "Int64Index: 984 entries, 0 to 45\n",
      "Data columns (total 9 columns):\n",
      " #   Column             Non-Null Count  Dtype         \n",
      "---  ------             --------------  -----         \n",
      " 0   state              984 non-null    object        \n",
      " 1   colonies           984 non-null    float64       \n",
      " 2   yieldpercolony     984 non-null    float64       \n",
      " 3   totalproduction    984 non-null    float64       \n",
      " 4   lbsofstock         984 non-null    float64       \n",
      " 5   avgpriceperlb      984 non-null    float64       \n",
      " 6   valueofproduction  984 non-null    float64       \n",
      " 7   year               984 non-null    object        \n",
      " 8   yearsteps          984 non-null    datetime64[ns]\n",
      "dtypes: datetime64[ns](1), float64(6), object(2)\n",
      "memory usage: 76.9+ KB\n"
     ]
    }
   ],
   "source": [
    "df.info()"
   ]
  },
  {
   "cell_type": "code",
   "execution_count": 163,
   "id": "ae2fcb98",
   "metadata": {},
   "outputs": [],
   "source": [
    "# Export cleaned data CleanedHoneyData.CSV\n",
    "df.to_csv(r'C:\\Users\\mmorg\\WGU\\D214\\CleanedHoneyData.csv')"
   ]
  },
  {
   "cell_type": "markdown",
   "id": "b120280d",
   "metadata": {},
   "source": [
    "# C5. Final Data Preparation for Time Series"
   ]
  },
  {
   "cell_type": "code",
   "execution_count": 164,
   "id": "65fa9b68",
   "metadata": {},
   "outputs": [
    {
     "data": {
      "text/html": [
       "<div>\n",
       "<style scoped>\n",
       "    .dataframe tbody tr th:only-of-type {\n",
       "        vertical-align: middle;\n",
       "    }\n",
       "\n",
       "    .dataframe tbody tr th {\n",
       "        vertical-align: top;\n",
       "    }\n",
       "\n",
       "    .dataframe thead th {\n",
       "        text-align: right;\n",
       "    }\n",
       "</style>\n",
       "<table border=\"1\" class=\"dataframe\">\n",
       "  <thead>\n",
       "    <tr style=\"text-align: right;\">\n",
       "      <th></th>\n",
       "      <th>totalproduction</th>\n",
       "      <th>yearsteps</th>\n",
       "    </tr>\n",
       "  </thead>\n",
       "  <tbody>\n",
       "    <tr>\n",
       "      <th>46</th>\n",
       "      <td>220339000.0</td>\n",
       "      <td>2000-01-01</td>\n",
       "    </tr>\n",
       "    <tr>\n",
       "      <th>46</th>\n",
       "      <td>185926000.0</td>\n",
       "      <td>2001-01-01</td>\n",
       "    </tr>\n",
       "    <tr>\n",
       "      <th>47</th>\n",
       "      <td>171718000.0</td>\n",
       "      <td>2002-01-01</td>\n",
       "    </tr>\n",
       "    <tr>\n",
       "      <th>47</th>\n",
       "      <td>181096000.0</td>\n",
       "      <td>2003-01-01</td>\n",
       "    </tr>\n",
       "    <tr>\n",
       "      <th>44</th>\n",
       "      <td>183582000.0</td>\n",
       "      <td>2004-01-01</td>\n",
       "    </tr>\n",
       "    <tr>\n",
       "      <th>44</th>\n",
       "      <td>174818000.0</td>\n",
       "      <td>2005-01-01</td>\n",
       "    </tr>\n",
       "    <tr>\n",
       "      <th>44</th>\n",
       "      <td>154846000.0</td>\n",
       "      <td>2006-01-01</td>\n",
       "    </tr>\n",
       "    <tr>\n",
       "      <th>44</th>\n",
       "      <td>148341000.0</td>\n",
       "      <td>2007-01-01</td>\n",
       "    </tr>\n",
       "    <tr>\n",
       "      <th>44</th>\n",
       "      <td>163789000.0</td>\n",
       "      <td>2008-01-01</td>\n",
       "    </tr>\n",
       "    <tr>\n",
       "      <th>44</th>\n",
       "      <td>144108000.0</td>\n",
       "      <td>2009-01-01</td>\n",
       "    </tr>\n",
       "    <tr>\n",
       "      <th>46</th>\n",
       "      <td>176462000.0</td>\n",
       "      <td>2010-01-01</td>\n",
       "    </tr>\n",
       "    <tr>\n",
       "      <th>46</th>\n",
       "      <td>148357000.0</td>\n",
       "      <td>2011-01-01</td>\n",
       "    </tr>\n",
       "    <tr>\n",
       "      <th>46</th>\n",
       "      <td>142296000.0</td>\n",
       "      <td>2012-01-01</td>\n",
       "    </tr>\n",
       "    <tr>\n",
       "      <th>45</th>\n",
       "      <td>149499000.0</td>\n",
       "      <td>2013-01-01</td>\n",
       "    </tr>\n",
       "    <tr>\n",
       "      <th>46</th>\n",
       "      <td>178270000.0</td>\n",
       "      <td>2014-01-01</td>\n",
       "    </tr>\n",
       "    <tr>\n",
       "      <th>46</th>\n",
       "      <td>156544000.0</td>\n",
       "      <td>2015-01-01</td>\n",
       "    </tr>\n",
       "    <tr>\n",
       "      <th>46</th>\n",
       "      <td>161882000.0</td>\n",
       "      <td>2016-01-01</td>\n",
       "    </tr>\n",
       "    <tr>\n",
       "      <th>46</th>\n",
       "      <td>148980000.0</td>\n",
       "      <td>2017-01-01</td>\n",
       "    </tr>\n",
       "    <tr>\n",
       "      <th>46</th>\n",
       "      <td>152348000.0</td>\n",
       "      <td>2018-01-01</td>\n",
       "    </tr>\n",
       "    <tr>\n",
       "      <th>46</th>\n",
       "      <td>156922000.0</td>\n",
       "      <td>2019-01-01</td>\n",
       "    </tr>\n",
       "    <tr>\n",
       "      <th>46</th>\n",
       "      <td>147594000.0</td>\n",
       "      <td>2020-01-01</td>\n",
       "    </tr>\n",
       "    <tr>\n",
       "      <th>46</th>\n",
       "      <td>126744000.0</td>\n",
       "      <td>2021-01-01</td>\n",
       "    </tr>\n",
       "    <tr>\n",
       "      <th>45</th>\n",
       "      <td>125331000.0</td>\n",
       "      <td>2022-01-01</td>\n",
       "    </tr>\n",
       "  </tbody>\n",
       "</table>\n",
       "</div>"
      ],
      "text/plain": [
       "    totalproduction  yearsteps\n",
       "46      220339000.0 2000-01-01\n",
       "46      185926000.0 2001-01-01\n",
       "47      171718000.0 2002-01-01\n",
       "47      181096000.0 2003-01-01\n",
       "44      183582000.0 2004-01-01\n",
       "44      174818000.0 2005-01-01\n",
       "44      154846000.0 2006-01-01\n",
       "44      148341000.0 2007-01-01\n",
       "44      163789000.0 2008-01-01\n",
       "44      144108000.0 2009-01-01\n",
       "46      176462000.0 2010-01-01\n",
       "46      148357000.0 2011-01-01\n",
       "46      142296000.0 2012-01-01\n",
       "45      149499000.0 2013-01-01\n",
       "46      178270000.0 2014-01-01\n",
       "46      156544000.0 2015-01-01\n",
       "46      161882000.0 2016-01-01\n",
       "46      148980000.0 2017-01-01\n",
       "46      152348000.0 2018-01-01\n",
       "46      156922000.0 2019-01-01\n",
       "46      147594000.0 2020-01-01\n",
       "46      126744000.0 2021-01-01\n",
       "45      125331000.0 2022-01-01"
      ]
     },
     "execution_count": 164,
     "metadata": {},
     "output_type": "execute_result"
    }
   ],
   "source": [
    "df_ts = df.loc[(df['state'] == 'US')]\n",
    "df_ts = df_ts[['totalproduction', 'yearsteps']]\n",
    "df_ts"
   ]
  },
  {
   "cell_type": "code",
   "execution_count": 165,
   "id": "dee0ab32",
   "metadata": {},
   "outputs": [
    {
     "data": {
      "text/html": [
       "<div>\n",
       "<style scoped>\n",
       "    .dataframe tbody tr th:only-of-type {\n",
       "        vertical-align: middle;\n",
       "    }\n",
       "\n",
       "    .dataframe tbody tr th {\n",
       "        vertical-align: top;\n",
       "    }\n",
       "\n",
       "    .dataframe thead th {\n",
       "        text-align: right;\n",
       "    }\n",
       "</style>\n",
       "<table border=\"1\" class=\"dataframe\">\n",
       "  <thead>\n",
       "    <tr style=\"text-align: right;\">\n",
       "      <th></th>\n",
       "      <th>production</th>\n",
       "      <th>year</th>\n",
       "    </tr>\n",
       "  </thead>\n",
       "  <tbody>\n",
       "    <tr>\n",
       "      <th>46</th>\n",
       "      <td>220339000.0</td>\n",
       "      <td>2000-01-01</td>\n",
       "    </tr>\n",
       "    <tr>\n",
       "      <th>46</th>\n",
       "      <td>185926000.0</td>\n",
       "      <td>2001-01-01</td>\n",
       "    </tr>\n",
       "    <tr>\n",
       "      <th>47</th>\n",
       "      <td>171718000.0</td>\n",
       "      <td>2002-01-01</td>\n",
       "    </tr>\n",
       "    <tr>\n",
       "      <th>47</th>\n",
       "      <td>181096000.0</td>\n",
       "      <td>2003-01-01</td>\n",
       "    </tr>\n",
       "    <tr>\n",
       "      <th>44</th>\n",
       "      <td>183582000.0</td>\n",
       "      <td>2004-01-01</td>\n",
       "    </tr>\n",
       "    <tr>\n",
       "      <th>44</th>\n",
       "      <td>174818000.0</td>\n",
       "      <td>2005-01-01</td>\n",
       "    </tr>\n",
       "    <tr>\n",
       "      <th>44</th>\n",
       "      <td>154846000.0</td>\n",
       "      <td>2006-01-01</td>\n",
       "    </tr>\n",
       "    <tr>\n",
       "      <th>44</th>\n",
       "      <td>148341000.0</td>\n",
       "      <td>2007-01-01</td>\n",
       "    </tr>\n",
       "    <tr>\n",
       "      <th>44</th>\n",
       "      <td>163789000.0</td>\n",
       "      <td>2008-01-01</td>\n",
       "    </tr>\n",
       "    <tr>\n",
       "      <th>44</th>\n",
       "      <td>144108000.0</td>\n",
       "      <td>2009-01-01</td>\n",
       "    </tr>\n",
       "    <tr>\n",
       "      <th>46</th>\n",
       "      <td>176462000.0</td>\n",
       "      <td>2010-01-01</td>\n",
       "    </tr>\n",
       "    <tr>\n",
       "      <th>46</th>\n",
       "      <td>148357000.0</td>\n",
       "      <td>2011-01-01</td>\n",
       "    </tr>\n",
       "    <tr>\n",
       "      <th>46</th>\n",
       "      <td>142296000.0</td>\n",
       "      <td>2012-01-01</td>\n",
       "    </tr>\n",
       "    <tr>\n",
       "      <th>45</th>\n",
       "      <td>149499000.0</td>\n",
       "      <td>2013-01-01</td>\n",
       "    </tr>\n",
       "    <tr>\n",
       "      <th>46</th>\n",
       "      <td>178270000.0</td>\n",
       "      <td>2014-01-01</td>\n",
       "    </tr>\n",
       "    <tr>\n",
       "      <th>46</th>\n",
       "      <td>156544000.0</td>\n",
       "      <td>2015-01-01</td>\n",
       "    </tr>\n",
       "    <tr>\n",
       "      <th>46</th>\n",
       "      <td>161882000.0</td>\n",
       "      <td>2016-01-01</td>\n",
       "    </tr>\n",
       "    <tr>\n",
       "      <th>46</th>\n",
       "      <td>148980000.0</td>\n",
       "      <td>2017-01-01</td>\n",
       "    </tr>\n",
       "    <tr>\n",
       "      <th>46</th>\n",
       "      <td>152348000.0</td>\n",
       "      <td>2018-01-01</td>\n",
       "    </tr>\n",
       "    <tr>\n",
       "      <th>46</th>\n",
       "      <td>156922000.0</td>\n",
       "      <td>2019-01-01</td>\n",
       "    </tr>\n",
       "    <tr>\n",
       "      <th>46</th>\n",
       "      <td>147594000.0</td>\n",
       "      <td>2020-01-01</td>\n",
       "    </tr>\n",
       "    <tr>\n",
       "      <th>46</th>\n",
       "      <td>126744000.0</td>\n",
       "      <td>2021-01-01</td>\n",
       "    </tr>\n",
       "    <tr>\n",
       "      <th>45</th>\n",
       "      <td>125331000.0</td>\n",
       "      <td>2022-01-01</td>\n",
       "    </tr>\n",
       "  </tbody>\n",
       "</table>\n",
       "</div>"
      ],
      "text/plain": [
       "     production       year\n",
       "46  220339000.0 2000-01-01\n",
       "46  185926000.0 2001-01-01\n",
       "47  171718000.0 2002-01-01\n",
       "47  181096000.0 2003-01-01\n",
       "44  183582000.0 2004-01-01\n",
       "44  174818000.0 2005-01-01\n",
       "44  154846000.0 2006-01-01\n",
       "44  148341000.0 2007-01-01\n",
       "44  163789000.0 2008-01-01\n",
       "44  144108000.0 2009-01-01\n",
       "46  176462000.0 2010-01-01\n",
       "46  148357000.0 2011-01-01\n",
       "46  142296000.0 2012-01-01\n",
       "45  149499000.0 2013-01-01\n",
       "46  178270000.0 2014-01-01\n",
       "46  156544000.0 2015-01-01\n",
       "46  161882000.0 2016-01-01\n",
       "46  148980000.0 2017-01-01\n",
       "46  152348000.0 2018-01-01\n",
       "46  156922000.0 2019-01-01\n",
       "46  147594000.0 2020-01-01\n",
       "46  126744000.0 2021-01-01\n",
       "45  125331000.0 2022-01-01"
      ]
     },
     "execution_count": 165,
     "metadata": {},
     "output_type": "execute_result"
    }
   ],
   "source": [
    "df_ts = df_ts.rename(columns = {'totalproduction': 'production', 'yearsteps': 'year'})\n",
    "df_ts"
   ]
  },
  {
   "cell_type": "code",
   "execution_count": 166,
   "id": "3740341a",
   "metadata": {},
   "outputs": [
    {
     "data": {
      "text/html": [
       "<div>\n",
       "<style scoped>\n",
       "    .dataframe tbody tr th:only-of-type {\n",
       "        vertical-align: middle;\n",
       "    }\n",
       "\n",
       "    .dataframe tbody tr th {\n",
       "        vertical-align: top;\n",
       "    }\n",
       "\n",
       "    .dataframe thead th {\n",
       "        text-align: right;\n",
       "    }\n",
       "</style>\n",
       "<table border=\"1\" class=\"dataframe\">\n",
       "  <thead>\n",
       "    <tr style=\"text-align: right;\">\n",
       "      <th></th>\n",
       "      <th>production</th>\n",
       "    </tr>\n",
       "    <tr>\n",
       "      <th>year</th>\n",
       "      <th></th>\n",
       "    </tr>\n",
       "  </thead>\n",
       "  <tbody>\n",
       "    <tr>\n",
       "      <th>2000-01-01</th>\n",
       "      <td>220339000.0</td>\n",
       "    </tr>\n",
       "    <tr>\n",
       "      <th>2001-01-01</th>\n",
       "      <td>185926000.0</td>\n",
       "    </tr>\n",
       "    <tr>\n",
       "      <th>2002-01-01</th>\n",
       "      <td>171718000.0</td>\n",
       "    </tr>\n",
       "    <tr>\n",
       "      <th>2003-01-01</th>\n",
       "      <td>181096000.0</td>\n",
       "    </tr>\n",
       "    <tr>\n",
       "      <th>2004-01-01</th>\n",
       "      <td>183582000.0</td>\n",
       "    </tr>\n",
       "    <tr>\n",
       "      <th>2005-01-01</th>\n",
       "      <td>174818000.0</td>\n",
       "    </tr>\n",
       "    <tr>\n",
       "      <th>2006-01-01</th>\n",
       "      <td>154846000.0</td>\n",
       "    </tr>\n",
       "    <tr>\n",
       "      <th>2007-01-01</th>\n",
       "      <td>148341000.0</td>\n",
       "    </tr>\n",
       "    <tr>\n",
       "      <th>2008-01-01</th>\n",
       "      <td>163789000.0</td>\n",
       "    </tr>\n",
       "    <tr>\n",
       "      <th>2009-01-01</th>\n",
       "      <td>144108000.0</td>\n",
       "    </tr>\n",
       "    <tr>\n",
       "      <th>2010-01-01</th>\n",
       "      <td>176462000.0</td>\n",
       "    </tr>\n",
       "    <tr>\n",
       "      <th>2011-01-01</th>\n",
       "      <td>148357000.0</td>\n",
       "    </tr>\n",
       "    <tr>\n",
       "      <th>2012-01-01</th>\n",
       "      <td>142296000.0</td>\n",
       "    </tr>\n",
       "    <tr>\n",
       "      <th>2013-01-01</th>\n",
       "      <td>149499000.0</td>\n",
       "    </tr>\n",
       "    <tr>\n",
       "      <th>2014-01-01</th>\n",
       "      <td>178270000.0</td>\n",
       "    </tr>\n",
       "    <tr>\n",
       "      <th>2015-01-01</th>\n",
       "      <td>156544000.0</td>\n",
       "    </tr>\n",
       "    <tr>\n",
       "      <th>2016-01-01</th>\n",
       "      <td>161882000.0</td>\n",
       "    </tr>\n",
       "    <tr>\n",
       "      <th>2017-01-01</th>\n",
       "      <td>148980000.0</td>\n",
       "    </tr>\n",
       "    <tr>\n",
       "      <th>2018-01-01</th>\n",
       "      <td>152348000.0</td>\n",
       "    </tr>\n",
       "    <tr>\n",
       "      <th>2019-01-01</th>\n",
       "      <td>156922000.0</td>\n",
       "    </tr>\n",
       "    <tr>\n",
       "      <th>2020-01-01</th>\n",
       "      <td>147594000.0</td>\n",
       "    </tr>\n",
       "    <tr>\n",
       "      <th>2021-01-01</th>\n",
       "      <td>126744000.0</td>\n",
       "    </tr>\n",
       "    <tr>\n",
       "      <th>2022-01-01</th>\n",
       "      <td>125331000.0</td>\n",
       "    </tr>\n",
       "  </tbody>\n",
       "</table>\n",
       "</div>"
      ],
      "text/plain": [
       "             production\n",
       "year                   \n",
       "2000-01-01  220339000.0\n",
       "2001-01-01  185926000.0\n",
       "2002-01-01  171718000.0\n",
       "2003-01-01  181096000.0\n",
       "2004-01-01  183582000.0\n",
       "2005-01-01  174818000.0\n",
       "2006-01-01  154846000.0\n",
       "2007-01-01  148341000.0\n",
       "2008-01-01  163789000.0\n",
       "2009-01-01  144108000.0\n",
       "2010-01-01  176462000.0\n",
       "2011-01-01  148357000.0\n",
       "2012-01-01  142296000.0\n",
       "2013-01-01  149499000.0\n",
       "2014-01-01  178270000.0\n",
       "2015-01-01  156544000.0\n",
       "2016-01-01  161882000.0\n",
       "2017-01-01  148980000.0\n",
       "2018-01-01  152348000.0\n",
       "2019-01-01  156922000.0\n",
       "2020-01-01  147594000.0\n",
       "2021-01-01  126744000.0\n",
       "2022-01-01  125331000.0"
      ]
     },
     "execution_count": 166,
     "metadata": {},
     "output_type": "execute_result"
    }
   ],
   "source": [
    "df_ts.set_index('year', inplace=True)\n",
    "df_ts"
   ]
  },
  {
   "cell_type": "code",
   "execution_count": 168,
   "id": "3e9fbbcd",
   "metadata": {},
   "outputs": [
    {
     "data": {
      "text/plain": [
       "<function matplotlib.pyplot.show(close=None, block=None)>"
      ]
     },
     "execution_count": 168,
     "metadata": {},
     "output_type": "execute_result"
    },
    {
     "data": {
      "image/png": "[encoded data removed]",
      "text/plain": [
       "<Figure size 2000x1000 with 1 Axes>"
      ]
     },
     "metadata": {},
     "output_type": "display_data"
    }
   ],
   "source": [
    "# Adjust graph size for wideness\n",
    "plt.figure(figsize = [20,10])\n",
    "# US Yearly Production Chart\n",
    "plt.xlabel('Year')\n",
    "plt.ylabel('Production in Pounds')\n",
    "plt.title('United States Honey production from 2000 to 2022')\n",
    "# Plot Data\n",
    "plt.plot(df_ts.production)\n",
    "plt.plot()\n",
    "plt.legend(['Total Production'])\n",
    "# Make Trend Line\n",
    "x = mdates.date2num(df_ts.index)\n",
    "y = df_ts.production\n",
    "z = np.polyfit(x, y, 1)\n",
    "p = np.poly1d(z)\n",
    "# Plot trend line\n",
    "plt.plot(x, p(x), \"r--\")\n",
    "plt.show"
   ]
  },
  {
   "cell_type": "markdown",
   "id": "f2b3215e",
   "metadata": {},
   "source": [
    "As I near the finish of data preparation I calculate the trendline of the dataset. It's easy to see that honey production overall has decreased over the time period chosen for this analysis. Though there were two spikes of production in 2010 and 2014, there is a declining trend overall. This is especially apparent in recent years, specifically 2021 and 2022.\n",
    "\n",
    "Next is to apply a Dickey-Fuller test to determine the order of differencing required for this dataset. That will be included below."
   ]
  },
  {
   "cell_type": "code",
   "execution_count": 169,
   "id": "2016fecd",
   "metadata": {},
   "outputs": [
    {
     "name": "stdout",
     "output_type": "stream",
     "text": [
      "Test statistics:  -0.08623009150893284\n",
      "p-value:  0.950792914847616\n",
      "Critical values:  {'1%': -4.068853732362312, '5%': -3.1271488757396453, '10%': -2.7017297633136095}\n"
     ]
    }
   ],
   "source": [
    "# Running Dickey-Fuller test to check test statistic, p-value, and critical values\n",
    "result = adfuller(df_ts.production)\n",
    "print(\"Test statistics: \", result[0])\n",
    "print(\"p-value: \", result[1])\n",
    "print(\"Critical values: \", result[4])"
   ]
  },
  {
   "cell_type": "code",
   "execution_count": 170,
   "id": "78aad15e",
   "metadata": {},
   "outputs": [
    {
     "name": "stdout",
     "output_type": "stream",
     "text": [
      "Fail to reject null hypothesis, the time series is non-stationary\n"
     ]
    }
   ],
   "source": [
    "# Evaluating p-value\n",
    "if result[1]<= 0.05:\n",
    "    print(\"Reject null hypothesis, the time series is stationary\")\n",
    "else:\n",
    "    print(\"Fail to reject null hypothesis, the time series is non-stationary\")"
   ]
  },
  {
   "cell_type": "markdown",
   "id": "2dc50ca6",
   "metadata": {},
   "source": [
    "The original dataset is non-stationary. I will have to difference it until it loses stationarity and then it will be fit for modeling."
   ]
  },
  {
   "cell_type": "code",
   "execution_count": 179,
   "id": "16bad110",
   "metadata": {},
   "outputs": [
    {
     "name": "stdout",
     "output_type": "stream",
     "text": [
      "Test statistics:  -0.64888\n",
      "p-value:  0.85955\n",
      "Critical values:  {'1%': -4.137829282407408, '5%': -3.1549724074074077, '10%': -2.7144769444444443}\n"
     ]
    }
   ],
   "source": [
    "# Use diff() method to take difference of each successive data point, drop new null created in row 1\n",
    "df_diff = df_ts.diff().dropna()\n",
    "# Perform augmented Dickey-fuller\n",
    "aug_adfuller = adfuller(df_diff.production)\n",
    "# Print new Dickey-fuller results\n",
    "trans_result = aug_adfuller\n",
    "print(\"Test statistics: \", round(trans_result[0], 5))\n",
    "print(\"p-value: \", round(trans_result[1], 5))\n",
    "print(\"Critical values: \", trans_result[4])"
   ]
  },
  {
   "cell_type": "code",
   "execution_count": 180,
   "id": "b9adb57b",
   "metadata": {},
   "outputs": [
    {
     "name": "stdout",
     "output_type": "stream",
     "text": [
      "Fail to reject null hypothesis, the time series is non-stationary\n"
     ]
    }
   ],
   "source": [
    "# Evaluating p-value\n",
    "if trans_result[1]<= 0.05:\n",
    "    print(\"Reject null hypothesis, the time series is stationary\")\n",
    "else:\n",
    "    print(\"Fail to reject null hypothesis, the time series is non-stationary\")"
   ]
  },
  {
   "cell_type": "code",
   "execution_count": 181,
   "id": "c99c58c2",
   "metadata": {},
   "outputs": [
    {
     "name": "stdout",
     "output_type": "stream",
     "text": [
      "Test statistics:  -0.05631\n",
      "p-value:  0.95362\n",
      "Critical values:  {'1%': -4.137829282407408, '5%': -3.1549724074074077, '10%': -2.7144769444444443}\n"
     ]
    }
   ],
   "source": [
    "# Use 2nd order differencing\n",
    "df_diff = df_ts.diff().diff().dropna()\n",
    "# Perform augmented Dickey-fuller\n",
    "aug_adfuller = adfuller(df_diff.production)\n",
    "# Print new Dickey-fuller results\n",
    "trans_result = aug_adfuller\n",
    "print(\"Test statistics: \", round(trans_result[0], 5))\n",
    "print(\"p-value: \", round(trans_result[1], 5))\n",
    "print(\"Critical values: \", trans_result[4])"
   ]
  },
  {
   "cell_type": "code",
   "execution_count": 182,
   "id": "fbcad4c6",
   "metadata": {},
   "outputs": [
    {
     "name": "stdout",
     "output_type": "stream",
     "text": [
      "Fail to reject null hypothesis, the time series is non-stationary\n"
     ]
    }
   ],
   "source": [
    "# Evaluating p-value\n",
    "if trans_result[1]<= 0.05:\n",
    "    print(\"Reject null hypothesis, the time series is stationary\")\n",
    "else:\n",
    "    print(\"Fail to reject null hypothesis, the time series is non-stationary\")"
   ]
  },
  {
   "cell_type": "code",
   "execution_count": 183,
   "id": "ad8127bc",
   "metadata": {},
   "outputs": [
    {
     "name": "stdout",
     "output_type": "stream",
     "text": [
      "Test statistics:  -0.36316\n",
      "p-value:  0.91607\n",
      "Critical values:  {'1%': -4.223238279489106, '5%': -3.189368925619835, '10%': -2.729839421487603}\n"
     ]
    }
   ],
   "source": [
    "# Use 3rd order differencing\n",
    "df_diff = df_ts.diff().diff().diff().dropna()\n",
    "# Perform augmented Dickey-fuller\n",
    "aug_adfuller = adfuller(df_diff.production)\n",
    "# Print new Dickey-fuller results\n",
    "trans_result = aug_adfuller\n",
    "print(\"Test statistics: \", round(trans_result[0], 5))\n",
    "print(\"p-value: \", round(trans_result[1], 5))\n",
    "print(\"Critical values: \", trans_result[4])"
   ]
  },
  {
   "cell_type": "code",
   "execution_count": 184,
   "id": "b6273804",
   "metadata": {},
   "outputs": [
    {
     "name": "stdout",
     "output_type": "stream",
     "text": [
      "Fail to reject null hypothesis, the time series is non-stationary\n"
     ]
    }
   ],
   "source": [
    "# Evaluating p-value\n",
    "if trans_result[1]<= 0.05:\n",
    "    print(\"Reject null hypothesis, the time series is stationary\")\n",
    "else:\n",
    "    print(\"Fail to reject null hypothesis, the time series is non-stationary\")"
   ]
  },
  {
   "cell_type": "code",
   "execution_count": 185,
   "id": "317e02d2",
   "metadata": {},
   "outputs": [
    {
     "name": "stdout",
     "output_type": "stream",
     "text": [
      "Test statistics:  -4.81789\n",
      "p-value:  5e-05\n",
      "Critical values:  {'1%': -4.223238279489106, '5%': -3.189368925619835, '10%': -2.729839421487603}\n"
     ]
    }
   ],
   "source": [
    "# Use 4th order differencing\n",
    "df_diff = df_ts.diff().diff().diff().diff().dropna()\n",
    "# Perform augmented Dickey-fuller\n",
    "aug_adfuller = adfuller(df_diff.production)\n",
    "# Print new Dickey-fuller results\n",
    "trans_result = aug_adfuller\n",
    "print(\"Test statistics: \", round(trans_result[0], 5))\n",
    "print(\"p-value: \", round(trans_result[1], 5))\n",
    "print(\"Critical values: \", trans_result[4])"
   ]
  },
  {
   "cell_type": "code",
   "execution_count": 186,
   "id": "d6794fec",
   "metadata": {},
   "outputs": [
    {
     "name": "stdout",
     "output_type": "stream",
     "text": [
      "Reject null hypothesis, the time series is stationary\n"
     ]
    }
   ],
   "source": [
    "# Evaluating p-value\n",
    "if trans_result[1]<= 0.05:\n",
    "    print(\"Reject null hypothesis, the time series is stationary\")\n",
    "else:\n",
    "    print(\"Fail to reject null hypothesis, the time series is non-stationary\")"
   ]
  },
  {
   "cell_type": "markdown",
   "id": "cf2fe765",
   "metadata": {},
   "source": [
    "After differencing the data a 4th time I finally get a p value less than 0.05, and a t-stat less than the critical values. At this point I can stop differencing the data and it is now ready for modeling with a value of 4 for d."
   ]
  },
  {
   "cell_type": "markdown",
   "id": "beb28e1e",
   "metadata": {},
   "source": [
    "# D. Analysis and Reporting"
   ]
  },
  {
   "cell_type": "markdown",
   "id": "28c63688",
   "metadata": {},
   "source": [
    "Before I jump into feeding the data into the ARIMA model, I have to confirm that the data is ready to be forecasted. In the figures below I can confirm that our data lacks seasonality and the trends and residuals are within an acceptable range. I also need to confirm the stationarity of the data."
   ]
  },
  {
   "cell_type": "code",
   "execution_count": 187,
   "id": "5dbe4e1a",
   "metadata": {},
   "outputs": [
    {
     "data": {
      "text/plain": [
       "[<matplotlib.lines.Line2D at 0x1b0b5b5e520>]"
      ]
     },
     "execution_count": 187,
     "metadata": {},
     "output_type": "execute_result"
    },
    {
     "data": {
      "image/png": "[encoded data removed]",
      "text/plain": [
       "<Figure size 1200x300 with 1 Axes>"
      ]
     },
     "metadata": {},
     "output_type": "display_data"
    }
   ],
   "source": [
    "# Confirm lack of seasonality in differenced data\n",
    "decomp_data = seasonal_decompose(df_diff)\n",
    "plt.figure(figsize = [12, 3])\n",
    "plt.title('Seasonality of Decomposed Data')\n",
    "plt.ylabel('Variance')\n",
    "plt.xlabel('Date')\n",
    "plt.plot(decomp_data.seasonal)"
   ]
  },
  {
   "cell_type": "markdown",
   "id": "4a76ffd5",
   "metadata": {},
   "source": [
    "This graph above shows that there is no seasonality in the differenced data. I will continue with the decomposed time series below. "
   ]
  },
  {
   "cell_type": "code",
   "execution_count": 188,
   "id": "ff7d1ffb",
   "metadata": {},
   "outputs": [
    {
     "data": {
      "image/png": "[encoded data removed]",
      "text/plain": [
       "<Figure size 640x480 with 4 Axes>"
      ]
     },
     "execution_count": 188,
     "metadata": {},
     "output_type": "execute_result"
    },
    {
     "data": {
      "image/png": "[encoded data removed]",
      "text/plain": [
       "<Figure size 640x480 with 4 Axes>"
      ]
     },
     "metadata": {},
     "output_type": "display_data"
    }
   ],
   "source": [
    "# Creating decomposed time series\n",
    "decomp_data.plot()"
   ]
  },
  {
   "cell_type": "markdown",
   "id": "c12c37f2",
   "metadata": {},
   "source": [
    "The decomposed time series shows that there are no obvious trends and the residuals are all in line. This shows that we can continue preparing for the ARIMA model. \n",
    "\n",
    "Included below is the preparation of data into training and test sets. This is to allow for a plot of the model's predictions against known data points and obtain our MAPE score. This will help me to determine if our model is accurate or not. "
   ]
  },
  {
   "cell_type": "code",
   "execution_count": 189,
   "id": "8a13e3a0",
   "metadata": {},
   "outputs": [
    {
     "data": {
      "text/plain": [
       "(23, 1)"
      ]
     },
     "execution_count": 189,
     "metadata": {},
     "output_type": "execute_result"
    }
   ],
   "source": [
    "df_ts.shape"
   ]
  },
  {
   "cell_type": "code",
   "execution_count": 190,
   "id": "71a61335",
   "metadata": {},
   "outputs": [
    {
     "data": {
      "text/plain": [
       "18.400000000000002"
      ]
     },
     "execution_count": 190,
     "metadata": {},
     "output_type": "execute_result"
    }
   ],
   "source": [
    "23*.8"
   ]
  },
  {
   "cell_type": "code",
   "execution_count": 191,
   "id": "425958bc",
   "metadata": {},
   "outputs": [
    {
     "name": "stdout",
     "output_type": "stream",
     "text": [
      "Length of Train Data:  18\n",
      "Length of Test Data:  5\n"
     ]
    }
   ],
   "source": [
    "#Set predictor variables & target variable\n",
    "X = df_ts[0:18]\n",
    "y = df_ts[18:23]\n",
    "\n",
    "# Create 80/20 train/test split from differenced \n",
    "train = X\n",
    "test = y\n",
    "\n",
    "print(\"Length of Train Data: \", len(train))\n",
    "print(\"Length of Test Data: \", len(test))"
   ]
  },
  {
   "cell_type": "markdown",
   "id": "6ea2d136",
   "metadata": {},
   "source": [
    "Below is a plot of the training and test data sets so I can visualize the split at 2016. An 80/20 split is the standard for creating train/test splits. This split follows that convention."
   ]
  },
  {
   "cell_type": "code",
   "execution_count": 192,
   "id": "5106941d",
   "metadata": {},
   "outputs": [
    {
     "data": {
      "image/png": "[encoded data removed]",
      "text/plain": [
       "<Figure size 640x480 with 1 Axes>"
      ]
     },
     "metadata": {},
     "output_type": "display_data"
    }
   ],
   "source": [
    "ax = train.plot(color = 'b', x_compat=True)\n",
    "test.plot(ax = ax, color = 'black')\n",
    "plt.show()"
   ]
  },
  {
   "cell_type": "code",
   "execution_count": 193,
   "id": "a1981bca",
   "metadata": {},
   "outputs": [
    {
     "data": {
      "image/png": "[encoded data removed]",
      "text/plain": [
       "<Figure size 640x480 with 1 Axes>"
      ]
     },
     "metadata": {},
     "output_type": "display_data"
    },
    {
     "data": {
      "image/png": "[encoded data removed]",
      "text/plain": [
       "<Figure size 640x480 with 1 Axes>"
      ]
     },
     "metadata": {},
     "output_type": "display_data"
    }
   ],
   "source": [
    "# Autocorrelation plot of df_ts\n",
    "acf_diff = plot_acf(df_ts)\n",
    "\n",
    "# Partial Autocorrelation plot of df_ts\n",
    "pacf_diff = plot_pacf(df_ts, lags=10)"
   ]
  },
  {
   "cell_type": "markdown",
   "id": "7940d442",
   "metadata": {},
   "source": [
    "Above is a visualization of the Autocorrelation and Partial Autocorrelation. This helps to determine the p and q values for the ARIMA model. The autocorrelation visualization shows a statistical significance at the first order which means that the q value for the ARIMA model will be 1. The partial autocorrelation visualization shows that there is a statistical significance at the 10th order which means that our p value for the ARIMA model will be 10.\n",
    "\n",
    "I can now feed the data into the ARIMA model and check the predictions. "
   ]
  },
  {
   "cell_type": "code",
   "execution_count": 194,
   "id": "a7e75c19",
   "metadata": {},
   "outputs": [
    {
     "name": "stdout",
     "output_type": "stream",
     "text": [
      "                               SARIMAX Results                                \n",
      "==============================================================================\n",
      "Dep. Variable:             production   No. Observations:                   23\n",
      "Model:                ARIMA(10, 4, 1)   Log Likelihood      -6202171269206.357\n",
      "Date:                Tue, 25 Jul 2023   AIC                 12404342538436.715\n",
      "Time:                        15:39:22   BIC                 12404342538448.049\n",
      "Sample:                    01-01-2000   HQIC                12404342538438.633\n",
      "                         - 01-01-2022                                         \n",
      "Covariance Type:                  opg                                         \n",
      "==============================================================================\n",
      "                 coef    std err          z      P>|z|      [0.025      0.975]\n",
      "------------------------------------------------------------------------------\n",
      "ar.L1         -1.7870   3.16e-12  -5.65e+11      0.000      -1.787      -1.787\n",
      "ar.L2         -2.2625   6.68e-12  -3.39e+11      0.000      -2.262      -2.262\n",
      "ar.L3         -2.3600   1.16e-11  -2.03e+11      0.000      -2.360      -2.360\n",
      "ar.L4         -2.3493   1.69e-11  -1.39e+11      0.000      -2.349      -2.349\n",
      "ar.L5         -2.6164   1.89e-11  -1.38e+11      0.000      -2.616      -2.616\n",
      "ar.L6         -2.3464   1.69e-11  -1.39e+11      0.000      -2.346      -2.346\n",
      "ar.L7         -2.3589   1.16e-11  -2.03e+11      0.000      -2.359      -2.359\n",
      "ar.L8         -2.2622   6.67e-12  -3.39e+11      0.000      -2.262      -2.262\n",
      "ar.L9         -1.7831   3.17e-12  -5.62e+11      0.000      -1.783      -1.783\n",
      "ar.L10        -0.9971   1.13e-13  -8.84e+12      0.000      -0.997      -0.997\n",
      "ma.L1         -0.9833   1.26e-10  -7.83e+09      0.000      -0.983      -0.983\n",
      "sigma2       206.2673   2.56e-08   8.07e+09      0.000     206.267     206.267\n",
      "===================================================================================\n",
      "Ljung-Box (L1) (Q):                   0.21   Jarque-Bera (JB):                 3.72\n",
      "Prob(Q):                              0.65   Prob(JB):                         0.16\n",
      "Heteroskedasticity (H):              81.86   Skew:                             0.99\n",
      "Prob(H) (two-sided):                  0.00   Kurtosis:                         3.88\n",
      "===================================================================================\n",
      "\n",
      "Warnings:\n",
      "[1] Covariance matrix calculated using the outer product of gradients (complex-step).\n",
      "[2] Covariance matrix is singular or near-singular, with condition number 8.08e+14. Standard errors may be unstable.\n"
     ]
    }
   ],
   "source": [
    "# Run ARIMA model based already established p, d, q values. Notice I use the original dataset with a d value of 4 to reflect\n",
    "# the order of differencing\n",
    "model = ARIMA(df_ts, order=(10,4,1))\n",
    "results = model.fit()\n",
    "print(results.summary())"
   ]
  },
  {
   "cell_type": "code",
   "execution_count": 195,
   "id": "1e60a2d7",
   "metadata": {},
   "outputs": [
    {
     "data": {
      "image/png": "[encoded data removed]",
      "text/plain": [
       "<Figure size 640x480 with 2 Axes>"
      ]
     },
     "metadata": {},
     "output_type": "display_data"
    }
   ],
   "source": [
    "# Plot residuals and density\n",
    "residuals = results.resid[1:]\n",
    "fig, ax = plt.subplots(1,2)\n",
    "residuals.plot(title='Residuals', ax=ax[0])\n",
    "residuals.plot(title='Density', kind='kde', ax=ax[1])\n",
    "plt.show()"
   ]
  },
  {
   "cell_type": "markdown",
   "id": "3f4c4d85",
   "metadata": {},
   "source": [
    "After running the data through the ARIMA model we can visualize the results by checking the residuals and density. In the residuals plot we are looking for a graph that looks like \"white noise\". Because of the limited amount of data points present in the dataset, this is the closest thing to \"white noise\" we can hope for. In the density plot we want evenly distributed data with a mean of 0. Our plot is very close to that. We can now move on to comparing our predicitons to the original data."
   ]
  },
  {
   "cell_type": "code",
   "execution_count": 196,
   "id": "2efc937b",
   "metadata": {},
   "outputs": [
    {
     "name": "stdout",
     "output_type": "stream",
     "text": [
      "2000-01-01    0.000000e+00\n",
      "2001-01-01    7.392819e+08\n",
      "2002-01-01    4.359329e+06\n",
      "2003-01-01    1.167500e+08\n",
      "2004-01-01    6.199998e+07\n",
      "2005-01-01    2.312675e+08\n",
      "2006-01-01    1.457430e+08\n",
      "2007-01-01   -1.509455e+08\n",
      "2008-01-01    2.411808e+08\n",
      "2009-01-01    2.160330e+08\n",
      "2010-01-01    1.035532e+08\n",
      "2011-01-01    1.858586e+08\n",
      "2012-01-01    1.807461e+08\n",
      "2013-01-01    1.241104e+08\n",
      "2014-01-01    1.440129e+08\n",
      "2015-01-01    1.296389e+08\n",
      "2016-01-01    1.835003e+08\n",
      "2017-01-01    1.473051e+08\n",
      "2018-01-01    1.607767e+08\n",
      "2019-01-01    1.539016e+08\n",
      "2020-01-01    1.480883e+08\n",
      "2021-01-01    1.368950e+08\n",
      "2022-01-01    9.375593e+07\n",
      "Freq: AS-JAN, Name: predicted_mean, dtype: float64\n"
     ]
    }
   ],
   "source": [
    "forecast = results.predict()\n",
    "print(forecast)"
   ]
  },
  {
   "cell_type": "code",
   "execution_count": 197,
   "id": "19def713",
   "metadata": {},
   "outputs": [
    {
     "name": "stdout",
     "output_type": "stream",
     "text": [
      "             production\n",
      "year                   \n",
      "2018-01-01  152348000.0\n",
      "2019-01-01  156922000.0\n",
      "2020-01-01  147594000.0\n",
      "2021-01-01  126744000.0\n",
      "2022-01-01  125331000.0\n"
     ]
    }
   ],
   "source": [
    "print(test)"
   ]
  },
  {
   "cell_type": "code",
   "execution_count": 198,
   "id": "ff9554f4",
   "metadata": {},
   "outputs": [
    {
     "data": {
      "text/plain": [
       "(23,)"
      ]
     },
     "execution_count": 198,
     "metadata": {},
     "output_type": "execute_result"
    }
   ],
   "source": [
    "forecast.shape"
   ]
  },
  {
   "cell_type": "code",
   "execution_count": 199,
   "id": "1e436993",
   "metadata": {},
   "outputs": [
    {
     "data": {
      "image/png": "[encoded data removed]",
      "text/plain": [
       "<Figure size 640x480 with 1 Axes>"
      ]
     },
     "metadata": {},
     "output_type": "display_data"
    }
   ],
   "source": [
    "# Observed Data vs Forecasted Data\n",
    "fig, ax = plt.subplots()\n",
    "train.plot(ax=ax)\n",
    "test.plot(ax=ax)\n",
    "plot_predict(results, '2018-01-01', '2022-01-01', ax=ax)\n",
    "plt.ylabel('Production')\n",
    "plt.xlabel('Date')\n",
    "plt.title('Observed Data vs Forecasted Data')\n",
    "plt.show()"
   ]
  },
  {
   "cell_type": "markdown",
   "id": "5e76a0bf",
   "metadata": {},
   "source": [
    "Above is a graph showing the predicted results against the original data. It is shown that the predicted values have the same trend as the original data though it's not perfect. I will evaluate the predictions below using mean absolute percentage error (MAPE). The alternative hypothesis was that I could make predictions with a MAPE less than 10%. "
   ]
  },
  {
   "cell_type": "code",
   "execution_count": 200,
   "id": "ce12c601",
   "metadata": {},
   "outputs": [
    {
     "name": "stdout",
     "output_type": "stream",
     "text": [
      "2000-01-01    0.000000e+00\n",
      "2001-01-01    7.392819e+08\n",
      "2002-01-01    4.359329e+06\n",
      "2003-01-01    1.167500e+08\n",
      "2004-01-01    6.199998e+07\n",
      "2005-01-01    2.312675e+08\n",
      "2006-01-01    1.457430e+08\n",
      "2007-01-01   -1.509455e+08\n",
      "2008-01-01    2.411808e+08\n",
      "2009-01-01    2.160330e+08\n",
      "2010-01-01    1.035532e+08\n",
      "2011-01-01    1.858586e+08\n",
      "2012-01-01    1.807461e+08\n",
      "2013-01-01    1.241104e+08\n",
      "2014-01-01    1.440129e+08\n",
      "2015-01-01    1.296389e+08\n",
      "2016-01-01    1.835003e+08\n",
      "2017-01-01    1.473051e+08\n",
      "2018-01-01    1.607767e+08\n",
      "2019-01-01    1.539016e+08\n",
      "2020-01-01    1.480883e+08\n",
      "2021-01-01    1.368950e+08\n",
      "2022-01-01    9.375593e+07\n",
      "Freq: AS-JAN, Name: predicted_mean, dtype: float64\n",
      "2023-01-01    1.407250e+08\n",
      "Freq: AS-JAN, dtype: float64\n"
     ]
    }
   ],
   "source": [
    "start_index = '2023-01-01'\n",
    "end_index = '2023-01-01'\n",
    "futureforecast = results.predict(start=start_index, end=end_index)\n",
    "print(forecast)\n",
    "print(futureforecast)"
   ]
  },
  {
   "cell_type": "code",
   "execution_count": 201,
   "id": "26b58b90",
   "metadata": {},
   "outputs": [
    {
     "data": {
      "text/plain": [
       "2000-01-01    0.000000e+00\n",
       "2001-01-01    7.392819e+08\n",
       "2002-01-01    4.359329e+06\n",
       "2003-01-01    1.167500e+08\n",
       "2004-01-01    6.199998e+07\n",
       "2005-01-01    2.312675e+08\n",
       "2006-01-01    1.457430e+08\n",
       "2007-01-01   -1.509455e+08\n",
       "2008-01-01    2.411808e+08\n",
       "2009-01-01    2.160330e+08\n",
       "2010-01-01    1.035532e+08\n",
       "2011-01-01    1.858586e+08\n",
       "2012-01-01    1.807461e+08\n",
       "2013-01-01    1.241104e+08\n",
       "2014-01-01    1.440129e+08\n",
       "2015-01-01    1.296389e+08\n",
       "2016-01-01    1.835003e+08\n",
       "2017-01-01    1.473051e+08\n",
       "2018-01-01    1.607767e+08\n",
       "2019-01-01    1.539016e+08\n",
       "2020-01-01    1.480883e+08\n",
       "2021-01-01    1.368950e+08\n",
       "2022-01-01    9.375593e+07\n",
       "2023-01-01    1.407250e+08\n",
       "Freq: AS-JAN, dtype: float64"
      ]
     },
     "execution_count": 201,
     "metadata": {},
     "output_type": "execute_result"
    }
   ],
   "source": [
    "df_predict = pd.concat([forecast, futureforecast], axis=0)\n",
    "df_predict"
   ]
  },
  {
   "cell_type": "code",
   "execution_count": 202,
   "id": "98c12dc4",
   "metadata": {},
   "outputs": [],
   "source": [
    "df_predict = df_predict.reset_index()"
   ]
  },
  {
   "cell_type": "code",
   "execution_count": 203,
   "id": "c12856cb",
   "metadata": {},
   "outputs": [],
   "source": [
    "df_predict.columns = ['year', 'production']\n",
    "df_predict.set_index('year', inplace=True)"
   ]
  },
  {
   "cell_type": "code",
   "execution_count": 204,
   "id": "d408e708",
   "metadata": {},
   "outputs": [
    {
     "name": "stdout",
     "output_type": "stream",
     "text": [
      "The mean absolute percentage error of this forecast is 0.082.\n"
     ]
    }
   ],
   "source": [
    "pred_train = df_predict[0:19]\n",
    "pred_test = df_predict[18:23]\n",
    "\n",
    "mape = round(mean_absolute_percentage_error(test, pred_test), 3)\n",
    "print(f\"The mean absolute percentage error of this forecast is {mape}.\")"
   ]
  },
  {
   "cell_type": "markdown",
   "id": "0fcb0a5c",
   "metadata": {},
   "source": [
    "When comparing the predicted results to the datasets known results and calculting MAPE I find that the model is within the range of 10% with an actual percentage error of 8.2%. This means that the model is able to predict honey production over this time period within a range of 8.2% accuracy. \n",
    "\n",
    "Based on the forecast this model predicts that US Honey Production in 2023 will be within 8.2% of 140,725,000 pounds.\n",
    "\n",
    "This analysis technique was chosen due to the nature of the data. The values for p, d, q in the ARIMA model were chosen based on findings during the data exploration phase. Following the steps appropriately lead to a model with high accuracy. The advantage here is that when data is standardized and trends and seasonality are removed from the data, it can produce effective models for forecasting and making predicitons.\n",
    "\n",
    "The disadvantage of this analysis technique is that it requires data to be differenced, and that can introduce a number of problems. Differencing data can reduce the content of information in the dataset and it can cause problems with hypothesis testing as it may not follow a normal distribution curve. I also settled on using MAPE as the way to test accuracy. However, there is no standard on what a good MAPE score is. In this case, I determined in the hypotheses that being within 10% of the observed data points was an appropriate level of accuracy. For this report and model, this qualifies as good. Another way to check this would be using auto ARIMA and comparing the MAPE scores of the different models produced. "
   ]
  },
  {
   "cell_type": "markdown",
   "id": "b36da5d3",
   "metadata": {},
   "source": [
    "# E. Summary and Implications"
   ]
  },
  {
   "cell_type": "markdown",
   "id": "b5764b45",
   "metadata": {},
   "source": [
    "This capstone was focused on the following hypotheses: \n",
    "\n",
    "<b> Null Hypothesis: </b>We cannot predict the production of Honey in the United States within a 95% confidence interval with a 90% accuracy using Mean Absolute Percentage Error.\n",
    "\n",
    "<b> Alternative Hypothesis: </b>We can predict the production of Honey in the United States within a 95% confidence interval with a 90% accuracy using Mean Absolute Percentage Error.\n",
    "\n",
    "Through data exploration and manipulation I was able to show that after differencing the data we could prove our alternate hypothesis. I believe the final ARIMA model and forecast included in this report shows that I was able to produce a series of forecasts that achieved a MAPE score of 8.2%. This is lower than the 10% threshold set in the null and alternative hypotheses.\n",
    "\n",
    "Based on these results I feel confident in rejecting the null hypothesis and accepting the alternative hypothesis showing that this dataset can allow us to create an effective time series model for predicting US honey production.\n",
    "\n",
    "While we can consider the model a success there are a few limitations to this analysis that must be acknowledged. This analysis was based on a limited number of datapoints. With more datapoints, whether that's including more years, or having quarterly data, this model could potentially be even more accurate in its ability to forecast future production.\n",
    "\n",
    "This drop in production is a worrying trend and leads into talking about the implications of this report. As discussed earlier, honey production in the United States is important due to its relation to colony collapse disorder. This has had a huge impact on honey production, but also has a ripple effect on the economy and our environment. Honeybees are the largest population of pollinators in the world. The health of our economy and environment is directly dependent on the health of honeybee colonies. The amount of honey they produce is indicative of the health of these colonies and their populations. As shown, honey production has drastically decreased in recent years while my model predicts that it will continue to decline. \n",
    "\n",
    "Based on the results of my model it shows that honey production will continue to decrease. The next step, which will be included in my presentation, is to look at states that are bucking this trend and increasing their production in recent years. If we can identify states that are improving their honey production, and therefore improving the health of their honeybee populations, these states can be used as examples for reversing the trend of colony collapse disorder. After identifying these states a study can be recommended that will look at the characteristics of those states or what policies they have enacted that are promoting the health of their honeybee population. If these variables can be identified then a plan can be put in place to replicate those conditions elsewhere and mitigate the effects of CCD.\n",
    "\n",
    "Another approach into further study of this dataset is to look at included data regarding production of different types of honey. The data can be analyzed to see if specific types of honey are maintaining or increasing production over this time period and aren't effected by CCD as much as others. If these types of honey can be identified then that data can be used to immediately start looking into what flora produces that honey. The goal would be to hopefully identify conditions that those flowers are experiencing and attempt to replicate them elsewhere or there could be an attempt to spread those species of flower further and attempt to increase production of that type of honey elsewhere. If there is a particular type of honey that is outperforming the others, then that could lead to finding a more stable source of pollination for honeybees. "
   ]
  },
  {
   "cell_type": "markdown",
   "id": "e2b678d1",
   "metadata": {},
   "source": [
    "# F. Sources and Citations"
   ]
  },
  {
   "cell_type": "markdown",
   "id": "c6074425",
   "metadata": {},
   "source": [
    "“Colony Collapse Disorder | US EPA.” US EPA, 26 Oct. 2022, www.epa.gov/pollinator-protection/colony-collapse-disorder.\n",
    "\n",
    "USDA Economics, Statistics and Market Information System. usda.library.cornell.edu/concern/publications/hd76s004z?locale=en.\n",
    "\n",
    "Jebb, Andrew T., et al. “Time Series Analysis for Psychological Research: Examining and Forecasting Change.” Frontiers in Psychology, vol. 6, Frontiers Media, June 2015, doi:10.3389/fpsyg.2015.00727.\n",
    "\n",
    "Zach. “How to Calculate Mean Absolute Percentage Error (MAPE) in Excel.” Statology, May 2021, www.statology.org/mape-excel."
   ]
  }
 ],
 "metadata": {
  "kernelspec": {
   "display_name": "Python 3 (ipykernel)",
   "language": "python",
   "name": "python3"
  },
  "language_info": {
   "codemirror_mode": {
    "name": "ipython",
    "version": 3
   },
   "file_extension": ".py",
   "mimetype": "text/x-python",
   "name": "python",
   "nbconvert_exporter": "python",
   "pygments_lexer": "ipython3",
   "version": "3.9.15"
  }
 },
 "nbformat": 4,
 "nbformat_minor": 5
}
